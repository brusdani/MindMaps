{
 "cells": [
  {
   "cell_type": "code",
   "execution_count": 1,
   "id": "0f82ff78-754e-478b-897e-3dec5b15b672",
   "metadata": {},
   "outputs": [
    {
     "name": "stdout",
     "output_type": "stream",
     "text": [
      "Combined embeddings shape: (200, 1536)\n"
     ]
    }
   ],
   "source": [
    "import json\n",
    "import numpy as np\n",
    "from sklearn.cluster import KMeans\n",
    "\n",
    "# Load embeddings from the JSON files\n",
    "embedding_files = ['embeddings/animals.json', 'embeddings/companies.json', 'embeddings/computer_components.json', 'embeddings/events.json',\n",
    "                  'embeddings/landmarks.json','embeddings/movies.json','embeddings/people.json',\n",
    "                  'embeddings/research_fields.json','embeddings/university.json','embeddings/vehicles.json']\n",
    "\n",
    "all_embeddings = []\n",
    "file_names = []  # To store the corresponding file names\n",
    "\n",
    "# Iterate through each file and load its content\n",
    "for file in embedding_files:\n",
    "    with open(file, 'r') as f:\n",
    "        data = json.load(f)  # Load the data from each file\n",
    "        \n",
    "        # Add embeddings and file names\n",
    "        embeddings = np.array([item['embedding'] for item in data])  # Extract 'embedding' key\n",
    "        all_embeddings.append(embeddings)  # Add the embeddings\n",
    "        file_names.extend([item['file_name'] for item in data])  # Store file names\n",
    "\n",
    "# Combine all embeddings into a single array\n",
    "all_embeddings = np.concatenate(all_embeddings, axis=0)\n",
    "\n",
    "# Check the shape of the combined embeddings\n",
    "print(\"Combined embeddings shape:\", all_embeddings.shape)\n"
   ]
  },
  {
   "cell_type": "code",
   "execution_count": 2,
   "id": "5002d9cb-5ebe-4293-a638-99a1c91d7c17",
   "metadata": {},
   "outputs": [
    {
     "name": "stdout",
     "output_type": "stream",
     "text": [
      "[ 3  3  3  3  3 32 32 32 32 32 18 18 18 18 18 39 39 39 39 39 19 19 19 19\n",
      " 19 36 36 36 36 36  9  9  9  9  9 37 37 37 37 37 38 38 38 38 38 33 33 33\n",
      " 33 33  4  4  4  4  4 25 25 25 25 25 15 15 15 15 15 23 23 23 23 23 34 34\n",
      " 34 34 34 10 10 10 10 10 11 11 11 11 11 20 20 20 20 20  8  8  8  8  8 24\n",
      " 24 24 24 24 27 27 27 27 27 17 17 17 17 17 30 30 30 30 30  1  1  1  1  1\n",
      " 12 12 12 12 12  5  5  5  5  5 21 21 21 21 21 13 13 13 13 13 14 14 14 14\n",
      " 14  0  0  0  0  0 29 29 29 29 29 22 22 22 22 22 35 35 35 35 35  7  7  7\n",
      "  7  7 16 16 16 16 16  2  2  2  2  2 28 28 28 28 28 31 31 31 31 31 26 26\n",
      " 26 26 26  6  6  6  6  6]\n"
     ]
    }
   ],
   "source": [
    "from sklearn.decomposition import PCA\n",
    "\n",
    "pca = PCA(n_components=9)  # Reduce to 9 dimensions\n",
    "reduced_embeddings = pca.fit_transform(all_embeddings)\n",
    "\n",
    "kmeans40 = KMeans(n_clusters=40, init='k-means++', n_init=10, max_iter=1000, random_state=42)\n",
    "labels40 = kmeans40.fit_predict(reduced_embeddings)\n",
    "\n",
    "print(labels40)\n",
    "\n"
   ]
  },
  {
   "cell_type": "code",
   "execution_count": 3,
   "id": "52922263-f62c-4da9-813a-c89d3bd50d51",
   "metadata": {},
   "outputs": [
    {
     "name": "stdout",
     "output_type": "stream",
     "text": [
      "Cluster 0: ['economics1.txt', 'economics2.txt', 'economics3.txt', 'economics4.txt', 'economics5.txt']\n",
      "Cluster 1: ['star_wars1.txt', 'star_wars2.txt', 'star_wars3.txt', 'star_wars4.txt', 'star_wars5.txt']\n",
      "Cluster 2: ['vse1.txt', 'vse2.txt', 'vse3.txt', 'vse4.txt', 'vse5.txt']\n",
      "Cluster 3: ['cat1.txt', 'cat2.txt', 'cat3.txt', 'cat4.txt', 'cat5.txt']\n",
      "Cluster 4: ['motherboard1.txt', 'motherboard2.txt', 'motherboard3.txt', 'motherboard4.txt', 'motherboard5.txt']\n",
      "Cluster 5: ['havel1.txt', 'havel2.txt', 'havel3.txt', 'havel4.txt', 'havel5.txt']\n",
      "Cluster 6: ['train1.txt', 'train2.txt', 'train3.txt', 'train4.txt', 'train5.txt']\n",
      "Cluster 7: ['mit1.txt', 'mit2.txt', 'mit3.txt', 'mit4.txt', 'mit5.txt']\n",
      "Cluster 8: ['eiffel_tower1.txt', 'eiffel_tower2.txt', 'eiffel_tower3.txt', 'eiffel_tower4.txt', 'eiffel_tower5.txt']\n",
      "Cluster 9: ['microsoft1.txt', 'microsoft2.txt', 'microsoft3.txt', 'microsoft4.txt', 'microsoft5.txt']\n",
      "Cluster 10: ['world_war1.txt', 'world_war2.txt', 'world_war3.txt', 'world_war4.txt', 'world_war5.txt']\n",
      "Cluster 11: ['buckingham_palace1.txt', 'buckingham_palace2.txt', 'buckingham_palace3.txt', 'buckingham_palace4.txt', 'buckingham_palace5.txt']\n",
      "Cluster 12: ['einstein1.txt', 'einstein2.txt', 'einstein3.txt', 'einstein4.txt', 'einstein5.txt']\n",
      "Cluster 13: ['mandela1.txt', 'mandela2.txt', 'mandela3.txt', 'mandela4.txt', 'mandela5.txt']\n",
      "Cluster 14: ['chemistry1.txt', 'chemistry2.txt', 'chemistry3.txt', 'chemistry4.txt', 'chemistry5.txt']\n",
      "Cluster 15: ['boston_tea1.txt', 'boston_tea2.txt', 'boston_tea3.txt', 'boston_tea4.txt', 'boston_tea5.txt']\n",
      "Cluster 16: ['oxford1.txt', 'oxford2.txt', 'oxford3.txt', 'oxford4.txt', 'oxford5.txt']\n",
      "Cluster 17: ['matrix1.txt', 'matrix2.txt', 'matrix3.txt', 'matrix4.txt', 'matrix5.txt']\n",
      "Cluster 18: ['elephant1.txt', 'elephant2.txt', 'elephant3.txt', 'elephant4.txt', 'elephant5.txt']\n",
      "Cluster 19: ['amazon1.txt', 'amazon2.txt', 'amazon3.txt', 'amazon4.txt', 'amazon5.txt']\n",
      "Cluster 20: ['charles_bridge1.txt', 'charles_bridge2.txt', 'charles_bridge3.txt', 'charles_bridge4.txt', 'charles_bridge5.txt']\n",
      "Cluster 21: ['klaus1.txt', 'klaus2.txt', 'klaus3.txt', 'klaus4.txt', 'klaus5.txt']\n",
      "Cluster 22: ['physics1.txt', 'physics2.txt', 'physics3.txt', 'physics4.txt', 'physics5.txt']\n",
      "Cluster 23: ['moon_landing1.txt', 'moon_landing2.txt', 'moon_landing3.txt', 'moon_landing4.txt', 'moon_landing5.txt']\n",
      "Cluster 24: ['fuji1.txt', 'fuji2.txt', 'fuji3.txt', 'fuji4.txt', 'fuji5.txt']\n",
      "Cluster 25: ['ram1.txt', 'ram2.txt', 'ram3.txt', 'ram4.txt', 'ram5.txt']\n",
      "Cluster 26: ['car1.txt', 'car2.txt', 'car3.txt', 'car4.txt', 'car5.txt']\n",
      "Cluster 27: ['lord_rings1.txt', 'lord_rings2.txt', 'lord_rings3.txt', 'lord_rings4.txt', 'lord_rings5.txt']\n",
      "Cluster 28: ['airplane1.txt', 'airplane2.txt', 'airplane3.txt', 'airplane4.txt', 'airplane5.txt']\n",
      "Cluster 29: ['mathematics1.txt', 'mathematics2.txt', 'mathematics3.txt', 'mathematics4.txt', 'mathematics5.txt']\n",
      "Cluster 30: ['pirates1.txt', 'pirates2.txt', 'pirates3.txt', 'pirates4.txt', 'pirates5.txt']\n",
      "Cluster 31: ['boat1.txt', 'boat2.txt', 'boat3.txt', 'boat4.txt', 'boat5.txt']\n",
      "Cluster 32: ['dolphin1.txt', 'dolphin2.txt', 'dolphin3.txt', 'dolphin4.txt', 'dolphin5.txt']\n",
      "Cluster 33: ['gpu1.txt', 'gpu2.txt', 'gpu3.txt', 'gpu4.txt', 'gpu5.txt']\n",
      "Cluster 34: ['velvet_revolution1.txt', 'velvet_revolution2.txt', 'velvet_revolution3.txt', 'velvet_revolution4.txt', 'velvet_revolution5.txt']\n",
      "Cluster 35: ['cuni1.txt', 'cuni2.txt', 'cuni3.txt', 'cuni4.txt', 'cuni5.txt']\n",
      "Cluster 36: ['google1.txt', 'google2.txt', 'google3.txt', 'google4.txt', 'google5.txt']\n",
      "Cluster 37: ['tencent1.txt', 'tencent2.txt', 'tencent3.txt', 'tencent4.txt', 'tencent5.txt']\n",
      "Cluster 38: ['cpu1.txt', 'cpu2.txt', 'cpu3.txt', 'cpu4.txt', 'cpu5.txt']\n",
      "Cluster 39: ['giraffe1.txt', 'giraffe2.txt', 'giraffe3.txt', 'giraffe4.txt', 'giraffe5.txt']\n"
     ]
    }
   ],
   "source": [
    "# Now print the clusters with the corresponding filenames\n",
    "for cluster_num in range(40):\n",
    "    cluster_members = [file_names[idx] for idx in range(len(labels40)) if labels40[idx] == cluster_num]\n",
    "    print(f\"Cluster {cluster_num}: {cluster_members}\")"
   ]
  },
  {
   "cell_type": "code",
   "execution_count": 4,
   "id": "d1457d58-7f97-4ad2-b7fb-6189ab7765ea",
   "metadata": {},
   "outputs": [
    {
     "name": "stdout",
     "output_type": "stream",
     "text": [
      "[6, 6, 6, 6, 6, 6, 6, 6, 6, 6, 6, 6, 6, 6, 6, 6, 6, 6, 6, 6, 2, 2, 2, 2, 2, 2, 2, 2, 2, 2, 2, 2, 2, 2, 2, 2, 2, 2, 2, 2, 7, 7, 7, 7, 7, 7, 7, 7, 7, 7, 7, 7, 7, 7, 7, 7, 7, 7, 7, 7, 4, 4, 4, 4, 4, 4, 4, 4, 4, 4, 4, 4, 4, 4, 4, 4, 4, 4, 4, 4, 5, 5, 5, 5, 5, 5, 5, 5, 5, 5, 5, 5, 5, 5, 5, 5, 5, 5, 5, 5, 9, 9, 9, 9, 9, 9, 9, 9, 9, 9, 9, 9, 9, 9, 9, 9, 9, 9, 9, 9, 0, 0, 0, 0, 0, 0, 0, 0, 0, 0, 0, 0, 0, 0, 0, 0, 0, 0, 0, 0, 1, 1, 1, 1, 1, 1, 1, 1, 1, 1, 1, 1, 1, 1, 1, 1, 1, 1, 1, 1, 8, 8, 8, 8, 8, 8, 8, 8, 8, 8, 8, 8, 8, 8, 8, 8, 8, 8, 8, 8, 3, 3, 3, 3, 3, 3, 3, 3, 3, 3, 3, 3, 3, 3, 3, 3, 3, 3, 3, 3]\n",
      "[6, 6, 6, 6, 6, 11, 11, 11, 11, 11, 15, 15, 15, 15, 15, 17, 17, 17, 17, 17, 1, 1, 1, 1, 1, 18, 18, 18, 18, 18, 26, 26, 26, 26, 26, 35, 35, 35, 35, 35, 9, 9, 9, 9, 9, 19, 19, 19, 19, 19, 29, 29, 29, 29, 29, 33, 33, 33, 33, 33, 3, 3, 3, 3, 3, 28, 28, 28, 28, 28, 37, 37, 37, 37, 37, 39, 39, 39, 39, 39, 4, 4, 4, 4, 4, 7, 7, 7, 7, 7, 13, 13, 13, 13, 13, 16, 16, 16, 16, 16, 22, 22, 22, 22, 22, 25, 25, 25, 25, 25, 32, 32, 32, 32, 32, 34, 34, 34, 34, 34, 14, 14, 14, 14, 14, 20, 20, 20, 20, 20, 21, 21, 21, 21, 21, 23, 23, 23, 23, 23, 8, 8, 8, 8, 8, 12, 12, 12, 12, 12, 24, 24, 24, 24, 24, 31, 31, 31, 31, 31, 10, 10, 10, 10, 10, 27, 27, 27, 27, 27, 30, 30, 30, 30, 30, 38, 38, 38, 38, 38, 0, 0, 0, 0, 0, 2, 2, 2, 2, 2, 5, 5, 5, 5, 5, 36, 36, 36, 36, 36]\n"
     ]
    }
   ],
   "source": [
    "import os, re\n",
    "def extract_entity(fn):\n",
    "    base = os.path.splitext(fn)[0]\n",
    "    base = base.replace('gold_', '').replace('_gold', '')\n",
    "    return re.sub(r'\\d+$', '', base)\n",
    "\n",
    "true_entities = [extract_entity(fn) for fn in file_names]\n",
    "\n",
    "# H1: define \"domain\" groups\n",
    "expected_groups = {\n",
    "    0: ['havel','klaus','einstein','mandela'],\n",
    "    1: ['chemistry','economics','mathematics','physics'],\n",
    "    2: ['amazon','google','microsoft','tencent'],\n",
    "    3: ['airplane','boat','car','train'],\n",
    "    4: ['boston_tea','moon_landing','velvet_revolution','world_war'],\n",
    "    5: ['buckingham_palace','charles_bridge','eiffel_tower','fuji'],\n",
    "    6: ['cat','dolphin','elephant','giraffe'],\n",
    "    7: ['cpu','gpu','motherboard','ram'],\n",
    "    8: ['cuni','mit','oxford','vse'],\n",
    "    9: ['lord_rings','matrix','pirates','star_wars']\n",
    "}\n",
    "entity_to_group = {ent: grp for grp, ents in expected_groups.items() for ent in ents}\n",
    "\n",
    "#H2: one cluster per entity\n",
    "unique_entities = sorted(set(true_entities))\n",
    "entity_to_idx    = {ent: idx for idx, ent in enumerate(unique_entities)}\n",
    "\n",
    "# Build ground-truth labels\n",
    "groundtruth10 = [entity_to_group[ent]   for ent in true_entities]\n",
    "groundtruth40 = [entity_to_idx[ent]     for ent in true_entities]\n",
    "\n",
    "invalid = [e for e in true_entities if e not in entity_to_group]\n",
    "if invalid:\n",
    "    raise ValueError(f\"Unmapped in H1 groups: {set(invalid)}\")\n",
    "\n",
    "print(groundtruth10)\n",
    "print(groundtruth40)\n"
   ]
  },
  {
   "cell_type": "code",
   "execution_count": 5,
   "id": "1244d905-4916-432f-8bfa-0ae4ad211c15",
   "metadata": {},
   "outputs": [
    {
     "name": "stdout",
     "output_type": "stream",
     "text": [
      "[2 2 2 2 2 2 2 2 2 2 2 2 2 2 2 2 2 2 2 2 6 6 6 6 6 6 6 6 6 6 6 6 6 6 6 6 6\n",
      " 6 6 6 9 9 9 9 9 9 9 9 9 9 9 9 9 9 9 9 9 9 9 9 4 4 4 4 4 4 4 4 4 4 0 0 0 0\n",
      " 0 4 4 4 4 4 5 5 5 5 5 7 7 7 7 7 5 5 5 5 5 5 5 5 5 5 8 8 8 8 8 8 8 8 8 8 8\n",
      " 8 8 8 8 8 8 8 8 8 1 1 1 1 1 0 0 0 0 0 0 0 0 0 0 4 4 4 4 4 1 1 1 1 1 1 1 1\n",
      " 1 1 1 1 1 1 1 1 1 1 1 1 7 7 7 7 7 4 4 4 4 4 7 7 7 7 7 7 7 7 7 7 3 3 3 3 3\n",
      " 3 3 3 3 3 3 3 3 3 3 3 3 3 3 3]\n"
     ]
    }
   ],
   "source": [
    "# Apply k-means clustering with 10 clusters\n",
    "kmeans10 = KMeans(n_clusters=10, random_state=42)\n",
    "labels10 = kmeans10.fit_predict(reduced_embeddings)\n",
    "\n",
    "# Check the cluster assignments\n",
    "print(labels10)"
   ]
  },
  {
   "cell_type": "code",
   "execution_count": 6,
   "id": "9e4a7ba1-b50b-486d-980d-142964808b0c",
   "metadata": {},
   "outputs": [
    {
     "name": "stdout",
     "output_type": "stream",
     "text": [
      "Rand Index: 1.0\n"
     ]
    }
   ],
   "source": [
    "from sklearn.metrics import rand_score\n",
    "rand_index = rand_score(groundtruth40, labels40)\n",
    "\n",
    "print(f\"Rand Index: {rand_index}\")"
   ]
  },
  {
   "cell_type": "code",
   "execution_count": 7,
   "id": "210b3601-a4ad-4dce-9e63-395cf23efb95",
   "metadata": {},
   "outputs": [
    {
     "name": "stdout",
     "output_type": "stream",
     "text": [
      "Adjusted Rand Index: 1.0000\n"
     ]
    }
   ],
   "source": [
    "from sklearn.metrics import adjusted_rand_score\n",
    "\n",
    "ari40 = adjusted_rand_score(groundtruth40, labels40)\n",
    "print(f\"Adjusted Rand Index: {ari40:.4f}\")"
   ]
  },
  {
   "cell_type": "code",
   "execution_count": 8,
   "id": "b55d32df-05e6-4659-94dd-904f1c3773ef",
   "metadata": {},
   "outputs": [
    {
     "name": "stdout",
     "output_type": "stream",
     "text": [
      "Cluster 0: ['velvet_revolution1.txt', 'velvet_revolution2.txt', 'velvet_revolution3.txt', 'velvet_revolution4.txt', 'velvet_revolution5.txt', 'havel1.txt', 'havel2.txt', 'havel3.txt', 'havel4.txt', 'havel5.txt', 'klaus1.txt', 'klaus2.txt', 'klaus3.txt', 'klaus4.txt', 'klaus5.txt']\n",
      "Cluster 1: ['einstein1.txt', 'einstein2.txt', 'einstein3.txt', 'einstein4.txt', 'einstein5.txt', 'chemistry1.txt', 'chemistry2.txt', 'chemistry3.txt', 'chemistry4.txt', 'chemistry5.txt', 'economics1.txt', 'economics2.txt', 'economics3.txt', 'economics4.txt', 'economics5.txt', 'mathematics1.txt', 'mathematics2.txt', 'mathematics3.txt', 'mathematics4.txt', 'mathematics5.txt', 'physics1.txt', 'physics2.txt', 'physics3.txt', 'physics4.txt', 'physics5.txt']\n",
      "Cluster 2: ['cat1.txt', 'cat2.txt', 'cat3.txt', 'cat4.txt', 'cat5.txt', 'dolphin1.txt', 'dolphin2.txt', 'dolphin3.txt', 'dolphin4.txt', 'dolphin5.txt', 'elephant1.txt', 'elephant2.txt', 'elephant3.txt', 'elephant4.txt', 'elephant5.txt', 'giraffe1.txt', 'giraffe2.txt', 'giraffe3.txt', 'giraffe4.txt', 'giraffe5.txt']\n",
      "Cluster 3: ['airplane1.txt', 'airplane2.txt', 'airplane3.txt', 'airplane4.txt', 'airplane5.txt', 'boat1.txt', 'boat2.txt', 'boat3.txt', 'boat4.txt', 'boat5.txt', 'car1.txt', 'car2.txt', 'car3.txt', 'car4.txt', 'car5.txt', 'train1.txt', 'train2.txt', 'train3.txt', 'train4.txt', 'train5.txt']\n",
      "Cluster 4: ['boston_tea1.txt', 'boston_tea2.txt', 'boston_tea3.txt', 'boston_tea4.txt', 'boston_tea5.txt', 'moon_landing1.txt', 'moon_landing2.txt', 'moon_landing3.txt', 'moon_landing4.txt', 'moon_landing5.txt', 'world_war1.txt', 'world_war2.txt', 'world_war3.txt', 'world_war4.txt', 'world_war5.txt', 'mandela1.txt', 'mandela2.txt', 'mandela3.txt', 'mandela4.txt', 'mandela5.txt', 'mit1.txt', 'mit2.txt', 'mit3.txt', 'mit4.txt', 'mit5.txt']\n",
      "Cluster 5: ['buckingham_palace1.txt', 'buckingham_palace2.txt', 'buckingham_palace3.txt', 'buckingham_palace4.txt', 'buckingham_palace5.txt', 'eiffel_tower1.txt', 'eiffel_tower2.txt', 'eiffel_tower3.txt', 'eiffel_tower4.txt', 'eiffel_tower5.txt', 'fuji1.txt', 'fuji2.txt', 'fuji3.txt', 'fuji4.txt', 'fuji5.txt']\n",
      "Cluster 6: ['amazon1.txt', 'amazon2.txt', 'amazon3.txt', 'amazon4.txt', 'amazon5.txt', 'google1.txt', 'google2.txt', 'google3.txt', 'google4.txt', 'google5.txt', 'microsoft1.txt', 'microsoft2.txt', 'microsoft3.txt', 'microsoft4.txt', 'microsoft5.txt', 'tencent1.txt', 'tencent2.txt', 'tencent3.txt', 'tencent4.txt', 'tencent5.txt']\n",
      "Cluster 7: ['charles_bridge1.txt', 'charles_bridge2.txt', 'charles_bridge3.txt', 'charles_bridge4.txt', 'charles_bridge5.txt', 'cuni1.txt', 'cuni2.txt', 'cuni3.txt', 'cuni4.txt', 'cuni5.txt', 'oxford1.txt', 'oxford2.txt', 'oxford3.txt', 'oxford4.txt', 'oxford5.txt', 'vse1.txt', 'vse2.txt', 'vse3.txt', 'vse4.txt', 'vse5.txt']\n",
      "Cluster 8: ['lord_rings1.txt', 'lord_rings2.txt', 'lord_rings3.txt', 'lord_rings4.txt', 'lord_rings5.txt', 'matrix1.txt', 'matrix2.txt', 'matrix3.txt', 'matrix4.txt', 'matrix5.txt', 'pirates1.txt', 'pirates2.txt', 'pirates3.txt', 'pirates4.txt', 'pirates5.txt', 'star_wars1.txt', 'star_wars2.txt', 'star_wars3.txt', 'star_wars4.txt', 'star_wars5.txt']\n",
      "Cluster 9: ['cpu1.txt', 'cpu2.txt', 'cpu3.txt', 'cpu4.txt', 'cpu5.txt', 'gpu1.txt', 'gpu2.txt', 'gpu3.txt', 'gpu4.txt', 'gpu5.txt', 'motherboard1.txt', 'motherboard2.txt', 'motherboard3.txt', 'motherboard4.txt', 'motherboard5.txt', 'ram1.txt', 'ram2.txt', 'ram3.txt', 'ram4.txt', 'ram5.txt']\n"
     ]
    }
   ],
   "source": [
    "for cluster_num in range(10):\n",
    "    cluster_members = [file_names[idx] for idx in range(len(labels10)) if labels10[idx] == cluster_num]\n",
    "    print(f\"Cluster {cluster_num}: {cluster_members}\")"
   ]
  },
  {
   "cell_type": "code",
   "execution_count": 9,
   "id": "5c9af2c1-a384-42fd-a6e3-5019a97b8e9f",
   "metadata": {},
   "outputs": [
    {
     "name": "stdout",
     "output_type": "stream",
     "text": [
      "Rand Index: 0.9623115577889447\n"
     ]
    }
   ],
   "source": [
    "from sklearn.metrics import rand_score\n",
    "rand_index = rand_score(groundtruth10, labels10)\n",
    "\n",
    "print(f\"Rand Index: {rand_index}\")"
   ]
  },
  {
   "cell_type": "code",
   "execution_count": 10,
   "id": "df47dded-00f6-47ea-9e42-cdc8ff7096c4",
   "metadata": {},
   "outputs": [
    {
     "name": "stdout",
     "output_type": "stream",
     "text": [
      "Adjusted Rand Index: 0.7843\n"
     ]
    }
   ],
   "source": [
    "from sklearn.metrics import adjusted_rand_score\n",
    "\n",
    "ari10 = adjusted_rand_score(groundtruth10, labels10)\n",
    "print(f\"Adjusted Rand Index: {ari10:.4f}\")"
   ]
  },
  {
   "cell_type": "code",
   "execution_count": 11,
   "id": "0b48679c-d30f-484f-b64a-65610f612db2",
   "metadata": {},
   "outputs": [
    {
     "name": "stdout",
     "output_type": "stream",
     "text": [
      "Unique entity counts per k=10 cluster:\n",
      " cluster10\n",
      "0    3\n",
      "1    5\n",
      "2    4\n",
      "3    4\n",
      "4    5\n",
      "5    3\n",
      "6    4\n",
      "7    4\n",
      "8    4\n",
      "9    4\n",
      "Name: entity, dtype: int64\n",
      "❌ These clusters don’t have 5 entities:\n",
      "cluster10\n",
      "0    3\n",
      "2    4\n",
      "3    4\n",
      "5    3\n",
      "6    4\n",
      "7    4\n",
      "8    4\n",
      "9    4\n",
      "Name: entity, dtype: int64\n",
      "Homogeneity (k=10): 0.876\n",
      "Completeness (k=10): 0.881\n",
      "ARI_pro_H1        = 0.784\n"
     ]
    }
   ],
   "source": [
    "# experiment - not used in thesis text\n",
    "import re\n",
    "import pandas as pd\n",
    "\n",
    "true_entities = [\n",
    "    re.match(r\"(.+?)(?:\\d+)\\.txt$\", fn).group(1)\n",
    "    for fn in file_names\n",
    "]\n",
    "df = pd.DataFrame({\n",
    "    'entity':    true_entities,\n",
    "    'cluster10': labels10\n",
    "})\n",
    "\n",
    "# 2) Count unique entities per cluster:\n",
    "entity_counts = df.groupby('cluster10')['entity'].nunique()\n",
    "print(\"Unique entity counts per k=10 cluster:\\n\", entity_counts)\n",
    "\n",
    "# 3) Check which clusters deviate from 5:\n",
    "bad = entity_counts[entity_counts != 5]\n",
    "if bad.empty:\n",
    "    print(\"✅ Every cluster has exactly 5 entities.\")\n",
    "else:\n",
    "    print(\"❌ These clusters don’t have 5 entities:\")\n",
    "    print(bad)\n",
    "\n",
    "# 4) (Optional) If you want a quick “homogeneity” check \n",
    "#    *against* your *expected* 5‐entity groups, you must encode\n",
    "#    those groups manually. For example:\n",
    "expected_groups = {\n",
    "    0: ['havel','klaus','einstein','mandela'],\n",
    "    1: ['chemistry','economics','mathematics','physics'],\n",
    "    2: ['amazon', 'google', 'microsoft', 'tencent'],\n",
    "    3: ['airplane', 'boat','car','train'],\n",
    "    4: ['boston_tea','moon_landing','velvet_revolution','world_war'],\n",
    "    5: ['buckingham_palace', 'charles_bridge','eiffel_tower','fuji'],\n",
    "    6: ['cat','dolphin', 'elephant','giraffe'],\n",
    "    7: ['cpu','gpu','motherboard','ram'],\n",
    "    8: ['cuni','mit','oxford','vse'],\n",
    "    9: ['lord_rings','matrix','pirates','star_wars']\n",
    "    \n",
    "    # … fill in for clusters 2–9 …\n",
    "}\n",
    "\n",
    "# build a mapping entity→expected_group_id\n",
    "entity_to_group = {\n",
    "    e: grp for grp, ents in expected_groups.items() for e in ents\n",
    "}\n",
    "\n",
    "# map your true entities into these group‐ids:\n",
    "true_group_labels = [entity_to_group[e] for e in true_entities]\n",
    "\n",
    "from sklearn.metrics import homogeneity_score, completeness_score\n",
    "\n",
    "h = homogeneity_score(true_group_labels, labels10)\n",
    "c = completeness_score(true_group_labels, labels10)\n",
    "ari_group  = adjusted_rand_score(true_group_labels, labels10)\n",
    "\n",
    "print(f\"Homogeneity (k=10): {h:.3f}\")\n",
    "print(f\"Completeness (k=10): {c:.3f}\")\n",
    "print(f\"ARI_pro_H1        = {ari_group:.3f}\")\n"
   ]
  },
  {
   "cell_type": "code",
   "execution_count": 12,
   "id": "36ecef1e-b05b-49c8-87a8-d11ff78380e7",
   "metadata": {},
   "outputs": [
    {
     "name": "stdout",
     "output_type": "stream",
     "text": [
      "[[35200   800]\n",
      " [  700  3100]]\n",
      "0.9623115577889447\n"
     ]
    }
   ],
   "source": [
    "from sklearn.metrics import pair_confusion_matrix\n",
    "cm = pair_confusion_matrix(groundtruth10, labels10)\n",
    "# cm is a 2×2 numpy array:\n",
    "#    [[TN, FP],\n",
    "#     [FN, TP]]\n",
    "print(cm)\n",
    "\n",
    "tn, fp, fn, tp = cm.ravel()\n",
    "rand_index = (tp + tn) / cm.sum()\n",
    "print(rand_index)"
   ]
  },
  {
   "cell_type": "code",
   "execution_count": 13,
   "id": "cd822b13-f00e-4a39-a26d-a7be0aa5b533",
   "metadata": {},
   "outputs": [],
   "source": [
    "from sklearn.metrics import pair_confusion_matrix\n",
    "def pairwise_prf(y_true, y_pred):\n",
    "    tn, fp, fn, tp = pair_confusion_matrix(y_true, y_pred).ravel()\n",
    "    prec = tp / (tp + fp) if tp + fp > 0 else 0.0\n",
    "    rec  = tp / (tp + fn) if tp + fn > 0 else 0.0\n",
    "    f1   = 2 * prec * rec / (prec + rec) if prec + rec > 0 else 0.0\n",
    "    return {\"precision\": prec, \"recall\": rec, \"f1\": f1}"
   ]
  },
  {
   "cell_type": "code",
   "execution_count": 14,
   "id": "0a972ece-f84d-4037-be99-7a60aa54cca8",
   "metadata": {},
   "outputs": [
    {
     "name": "stdout",
     "output_type": "stream",
     "text": [
      "Pairwise Precision: 0.7949\n",
      "Pairwise Recall:    0.8158\n",
      "Pairwise F1-score:  0.8052\n"
     ]
    }
   ],
   "source": [
    "metrics10 = pairwise_prf(groundtruth10, labels10)\n",
    "print(f\"Pairwise Precision: {metrics10['precision']:.4f}\")\n",
    "print(f\"Pairwise Recall:    {metrics10['recall']   :.4f}\")\n",
    "print(f\"Pairwise F1-score:  {metrics10['f1']       :.4f}\")"
   ]
  },
  {
   "cell_type": "code",
   "execution_count": 15,
   "id": "c5b1bbe3-ccc8-4138-ad15-c03b63370a95",
   "metadata": {},
   "outputs": [
    {
     "name": "stdout",
     "output_type": "stream",
     "text": [
      "Pairwise Precision: 1.0000\n",
      "Pairwise Recall:    1.0000\n",
      "Pairwise F1-score:  1.0000\n"
     ]
    }
   ],
   "source": [
    "metrics40 = pairwise_prf(groundtruth40, labels40)\n",
    "print(f\"Pairwise Precision: {metrics40['precision']:.4f}\")\n",
    "print(f\"Pairwise Recall:    {metrics40['recall']   :.4f}\")\n",
    "print(f\"Pairwise F1-score:  {metrics40['f1']       :.4f}\")"
   ]
  },
  {
   "cell_type": "code",
   "execution_count": 16,
   "id": "ee2106cd-7403-424d-afc0-04756528322d",
   "metadata": {},
   "outputs": [
    {
     "data": {
      "image/png": "[encoded data removed]",
      "text/plain": [
       "<Figure size 640x480 with 2 Axes>"
      ]
     },
     "metadata": {},
     "output_type": "display_data"
    }
   ],
   "source": [
    "#experiment to see map distances\n",
    "import matplotlib.pyplot as plt\n",
    "from sklearn.metrics.pairwise import euclidean_distances\n",
    "import numpy as np\n",
    "\n",
    "# 1) Rebuild your target vectors if needed\n",
    "entity_to_vec = dict(zip(file_names, all_embeddings))\n",
    "targets = [\"einstein1.txt\",\"physics1.txt\",\"havel1.txt\",\"velvet_revolution1.txt\"]\n",
    "vecs = np.stack([entity_to_vec[name] for name in targets])\n",
    "\n",
    "# 2) Compute distances\n",
    "dist_matrix = euclidean_distances(vecs)\n",
    "\n",
    "# 3) Plot heatmap\n",
    "fig, ax = plt.subplots()\n",
    "im = ax.imshow(dist_matrix)\n",
    "\n",
    "min_val, max_val = dist_matrix.min(), dist_matrix.max()\n",
    "mid_val = (min_val + max_val) / 2\n",
    "\n",
    "# Annotate each cell:\n",
    "for i in range(len(targets)):\n",
    "    for j in range(len(targets)):\n",
    "        val = dist_matrix[i, j]\n",
    "        color = 'black' if val > mid_val else 'white'\n",
    "        ax.text(j, i, f\"{val:.2f}\", ha='center', va='center', color=color)\n",
    "\n",
    "ax.set_xticks(range(len(targets)))\n",
    "ax.set_xticklabels(targets, rotation=45, ha='right')\n",
    "ax.set_yticks(range(len(targets)))\n",
    "ax.set_yticklabels(targets)\n",
    "ax.set_title(\"Euclidean Distance Heatmap\")\n",
    "fig.colorbar(im, ax=ax, label=\"Euclidean Distance\")\n",
    "plt.tight_layout()\n",
    "plt.show()\n"
   ]
  },
  {
   "cell_type": "code",
   "execution_count": null,
   "id": "1ef8fc92-c817-4408-84cd-4283a82cc2a0",
   "metadata": {},
   "outputs": [],
   "source": [
    "\n"
   ]
  },
  {
   "cell_type": "code",
   "execution_count": null,
   "id": "2f9e96fb-a791-4c55-b89f-ad31d1b57eb6",
   "metadata": {},
   "outputs": [],
   "source": []
  }
 ],
 "metadata": {
  "kernelspec": {
   "display_name": "Python 3 (ipykernel)",
   "language": "python",
   "name": "python3"
  },
  "language_info": {
   "codemirror_mode": {
    "name": "ipython",
    "version": 3
   },
   "file_extension": ".py",
   "mimetype": "text/x-python",
   "name": "python",
   "nbconvert_exporter": "python",
   "pygments_lexer": "ipython3",
   "version": "3.10.10"
  }
 },
 "nbformat": 4,
 "nbformat_minor": 5
}
