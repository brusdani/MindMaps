{
 "cells": [
  {
   "cell_type": "code",
   "execution_count": 1,
   "id": "b364a22c-5deb-4aed-a586-68581a7de22a",
   "metadata": {},
   "outputs": [
    {
     "name": "stdout",
     "output_type": "stream",
     "text": [
      "Combined embeddings shape: (210, 1536)\n"
     ]
    }
   ],
   "source": [
    "import json\n",
    "import numpy as np\n",
    "from sklearn.cluster import KMeans\n",
    "\n",
    "# Load embeddings from the JSON files\n",
    "embedding_files = ['embeddings/animals.json', 'embeddings/companies.json', 'embeddings/computer_components.json', 'embeddings/events.json',\n",
    "                  'embeddings/landmarks.json','embeddings/movies.json','embeddings/people.json',\n",
    "                  'embeddings/research_fields.json','embeddings/university.json','embeddings/vehicles.json', 'embeddings/gold.json']\n",
    "\n",
    "all_embeddings = []\n",
    "file_names = []  # To store the corresponding file names\n",
    "\n",
    "# Iterate through each file and load its content\n",
    "for file in embedding_files:\n",
    "    with open(file, 'r') as f:\n",
    "        data = json.load(f)  # Load the data from each file\n",
    "        \n",
    "        # Add embeddings and file names\n",
    "        embeddings = np.array([item['embedding'] for item in data])  # Extract 'embedding' key\n",
    "        all_embeddings.append(embeddings)  # Add the embeddings\n",
    "        file_names.extend([item['file_name'] for item in data])  # Store file names\n",
    "\n",
    "# Combine all embeddings into a single array\n",
    "all_embeddings = np.concatenate(all_embeddings, axis=0)\n",
    "\n",
    "# Check the shape of the combined embeddings\n",
    "print(\"Combined embeddings shape:\", all_embeddings.shape)\n"
   ]
  },
  {
   "cell_type": "code",
   "execution_count": 2,
   "id": "52a29a4c-396e-4b20-b86d-78458932beef",
   "metadata": {},
   "outputs": [
    {
     "name": "stdout",
     "output_type": "stream",
     "text": [
      "[29 29 29 29 29 37 37 37 37 37  3  3  3  3  3 36 36 36 36 36 20 20 20 20\n",
      " 20 27 27 27 27 27  5  5  5  5  5 22 22 22 22 22 31 31 31 31 31 25 25 25\n",
      " 25 25  6  6  6  6  6 30 30 30 30 30 16 16 16 16 16 10 10 10 10 10 28 28\n",
      " 28 28 28  0  0  0  0  0 12 12 12 12 12 34 34 34 34 34  4  4  4  4  4 18\n",
      " 18 18 18 18 24 24 24 24 24  9  9  9  9  9 19 19 19 19 19 13 13 13 13 13\n",
      " 11 11 11 11 11  1  1  1  1  1  1  1  1  1  1 17 17 17 17 17  8  8  8  8\n",
      "  8 21 21 21 21 21 39 39 39 39 39 33 33 33 33 33  7  7  7  7  7 32 32 32\n",
      " 32 32 15 15 15 15 15 35 35 35 35 35  2  2  2  2  2 23 23 23 23 23 26 26\n",
      " 26 26 26 38 38 38 38 38  2  7  4  3 25  1 14  5 10 13]\n"
     ]
    }
   ],
   "source": [
    "from sklearn.cluster import KMeans\n",
    "\n",
    "# Apply k-means clustering with 40 clusters\n",
    "kmeans40 = KMeans(n_clusters=40, random_state=42)\n",
    "clusters = kmeans40.fit_predict(all_embeddings)\n",
    "\n",
    "# Check the cluster assignments\n",
    "print(clusters)"
   ]
  },
  {
   "cell_type": "code",
   "execution_count": 3,
   "id": "a7429fb9-e9b4-41e3-b46e-1af17ec4cc76",
   "metadata": {},
   "outputs": [
    {
     "name": "stdout",
     "output_type": "stream",
     "text": [
      "Cluster 0: ['world_war1.txt', 'world_war2.txt', 'world_war3.txt', 'world_war4.txt', 'world_war5.txt']\n",
      "Cluster 1: ['havel1.txt', 'havel2.txt', 'havel3.txt', 'havel4.txt', 'havel5.txt', 'klaus1.txt', 'klaus2.txt', 'klaus3.txt', 'klaus4.txt', 'klaus5.txt', 'gold_havel.txt']\n",
      "Cluster 2: ['airplane1.txt', 'airplane2.txt', 'airplane3.txt', 'airplane4.txt', 'airplane5.txt', 'gold_airplane.txt']\n",
      "Cluster 3: ['elephant1.txt', 'elephant2.txt', 'elephant3.txt', 'elephant4.txt', 'elephant5.txt', 'gold_elephant.txt']\n",
      "Cluster 4: ['eiffel_tower1.txt', 'eiffel_tower2.txt', 'eiffel_tower3.txt', 'eiffel_tower4.txt', 'eiffel_tower5.txt', 'gold_eiffel_tower.txt']\n",
      "Cluster 5: ['microsoft1.txt', 'microsoft2.txt', 'microsoft3.txt', 'microsoft4.txt', 'microsoft5.txt', 'gold_microsoft.txt']\n",
      "Cluster 6: ['motherboard1.txt', 'motherboard2.txt', 'motherboard3.txt', 'motherboard4.txt', 'motherboard5.txt']\n",
      "Cluster 7: ['cuni1.txt', 'cuni2.txt', 'cuni3.txt', 'cuni4.txt', 'cuni5.txt', 'gold_cuni.txt']\n",
      "Cluster 8: ['chemistry1.txt', 'chemistry2.txt', 'chemistry3.txt', 'chemistry4.txt', 'chemistry5.txt']\n",
      "Cluster 9: ['matrix1.txt', 'matrix2.txt', 'matrix3.txt', 'matrix4.txt', 'matrix5.txt']\n",
      "Cluster 10: ['moon_landing1.txt', 'moon_landing2.txt', 'moon_landing3.txt', 'moon_landing4.txt', 'moon_landing5.txt', 'gold_moon_landing.txt']\n",
      "Cluster 11: ['einstein1.txt', 'einstein2.txt', 'einstein3.txt', 'einstein4.txt', 'einstein5.txt']\n",
      "Cluster 12: ['buckingham_palace1.txt', 'buckingham_palace2.txt', 'buckingham_palace3.txt', 'buckingham_palace4.txt', 'buckingham_palace5.txt']\n",
      "Cluster 13: ['star_wars1.txt', 'star_wars2.txt', 'star_wars3.txt', 'star_wars4.txt', 'star_wars5.txt', 'gold_star_wars.txt']\n",
      "Cluster 14: ['gold_mathematics.txt']\n",
      "Cluster 15: ['oxford1.txt', 'oxford2.txt', 'oxford3.txt', 'oxford4.txt', 'oxford5.txt']\n",
      "Cluster 16: ['boston_tea1.txt', 'boston_tea2.txt', 'boston_tea3.txt', 'boston_tea4.txt', 'boston_tea5.txt']\n",
      "Cluster 17: ['mandela1.txt', 'mandela2.txt', 'mandela3.txt', 'mandela4.txt', 'mandela5.txt']\n",
      "Cluster 18: ['fuji1.txt', 'fuji2.txt', 'fuji3.txt', 'fuji4.txt', 'fuji5.txt']\n",
      "Cluster 19: ['pirates1.txt', 'pirates2.txt', 'pirates3.txt', 'pirates4.txt', 'pirates5.txt']\n",
      "Cluster 20: ['amazon1.txt', 'amazon2.txt', 'amazon3.txt', 'amazon4.txt', 'amazon5.txt']\n",
      "Cluster 21: ['economics1.txt', 'economics2.txt', 'economics3.txt', 'economics4.txt', 'economics5.txt']\n",
      "Cluster 22: ['tencent1.txt', 'tencent2.txt', 'tencent3.txt', 'tencent4.txt', 'tencent5.txt']\n",
      "Cluster 23: ['boat1.txt', 'boat2.txt', 'boat3.txt', 'boat4.txt', 'boat5.txt']\n",
      "Cluster 24: ['lord_rings1.txt', 'lord_rings2.txt', 'lord_rings3.txt', 'lord_rings4.txt', 'lord_rings5.txt']\n",
      "Cluster 25: ['gpu1.txt', 'gpu2.txt', 'gpu3.txt', 'gpu4.txt', 'gpu5.txt', 'gold_gpu.txt']\n",
      "Cluster 26: ['car1.txt', 'car2.txt', 'car3.txt', 'car4.txt', 'car5.txt']\n",
      "Cluster 27: ['google1.txt', 'google2.txt', 'google3.txt', 'google4.txt', 'google5.txt']\n",
      "Cluster 28: ['velvet_revolution1.txt', 'velvet_revolution2.txt', 'velvet_revolution3.txt', 'velvet_revolution4.txt', 'velvet_revolution5.txt']\n",
      "Cluster 29: ['cat1.txt', 'cat2.txt', 'cat3.txt', 'cat4.txt', 'cat5.txt']\n",
      "Cluster 30: ['ram1.txt', 'ram2.txt', 'ram3.txt', 'ram4.txt', 'ram5.txt']\n",
      "Cluster 31: ['cpu1.txt', 'cpu2.txt', 'cpu3.txt', 'cpu4.txt', 'cpu5.txt']\n",
      "Cluster 32: ['mit1.txt', 'mit2.txt', 'mit3.txt', 'mit4.txt', 'mit5.txt']\n",
      "Cluster 33: ['physics1.txt', 'physics2.txt', 'physics3.txt', 'physics4.txt', 'physics5.txt']\n",
      "Cluster 34: ['charles_bridge1.txt', 'charles_bridge2.txt', 'charles_bridge3.txt', 'charles_bridge4.txt', 'charles_bridge5.txt']\n",
      "Cluster 35: ['vse1.txt', 'vse2.txt', 'vse3.txt', 'vse4.txt', 'vse5.txt']\n",
      "Cluster 36: ['giraffe1.txt', 'giraffe2.txt', 'giraffe3.txt', 'giraffe4.txt', 'giraffe5.txt']\n",
      "Cluster 37: ['dolphin1.txt', 'dolphin2.txt', 'dolphin3.txt', 'dolphin4.txt', 'dolphin5.txt']\n",
      "Cluster 38: ['train1.txt', 'train2.txt', 'train3.txt', 'train4.txt', 'train5.txt']\n",
      "Cluster 39: ['mathematics1.txt', 'mathematics2.txt', 'mathematics3.txt', 'mathematics4.txt', 'mathematics5.txt']\n"
     ]
    }
   ],
   "source": [
    "# Now print the clusters with the corresponding filenames\n",
    "for cluster_num in range(40):  # Assuming there are 4 clusters\n",
    "    cluster_members = [file_names[idx] for idx in range(len(clusters)) if clusters[idx] == cluster_num]\n",
    "    print(f\"Cluster {cluster_num}: {cluster_members}\")\n"
   ]
  },
  {
   "cell_type": "code",
   "execution_count": 4,
   "id": "c8bcdcca-9add-4eb6-bf4b-fb61d1af1491",
   "metadata": {},
   "outputs": [],
   "source": [
    "y_pred40_gold = [\n",
    "    0, 0, 0, 0, 0,0, 1, 1, 1, 1, 1, 1, 2, 2, 2, 2, 2, 2, 3, 3, 3, 3, 3, 3, 4, 4, 4, 4, 4, 4, 5, 5, 5, 5, 5,5, 6, 6, 6, 6, 6,6, 7, 7, 7, 7, 7,7, 8, 8, 8, 8, 8,8, \n",
    "    9, 9, 9, 9, 9, 9, 10, 10, 10, 10, 10, 11, 11, 11, 11, 11,12, 12, 12, 12, 12, 13, 13, 13, 13, 13, 14, 14, 14, 14, 14, 15, 15, 15, 15, 15,  \n",
    "    16, 16, 16, 16, 16, 17, 17, 17, 17, 17, 18, 18, 18, 18, 18, 19, 19, 19, 19, 19, 20, 20, 20, 20, 20, 21, 21, 21, 21, 21, 22, 22, 22, 22, 22,  \n",
    "    23, 23, 23, 23, 23, 24, 24, 24, 24, 24, 25, 25, 25, 25, 25, 26, 26, 26, 26, 26, 27, 27, 27, 27, 27, 28, 28, 28, 28, 28, 29, 29, 29, 29, 29,\n",
    "    30, 30, 30, 30, 30, 31, 31, 31, 31, 31, 32, 32, 32, 32, 32, 33, 33, 33, 33, 33, 34, 34, 34, 34, 34, 35, 35, 35, 35, 35, \n",
    "    36, 36, 36, 36, 36, 37, 37, 37, 37, 37, 38, 38, 38, 38, 38, 39, 39, 39, 39, 39 \n",
    "]"
   ]
  },
  {
   "cell_type": "code",
   "execution_count": 5,
   "id": "e7c3c787-40c7-4960-97dd-6d1004d066d1",
   "metadata": {},
   "outputs": [
    {
     "name": "stdout",
     "output_type": "stream",
     "text": [
      "Rand Index: 0.9906584643426749\n"
     ]
    }
   ],
   "source": [
    "from sklearn.metrics import rand_score\n",
    "rand_index = rand_score(clusters, y_pred40_gold)\n",
    "\n",
    "print(f\"Rand Index: {rand_index}\")"
   ]
  },
  {
   "cell_type": "code",
   "execution_count": 6,
   "id": "83ce9977-bd64-46bb-aee4-f0010b38872b",
   "metadata": {},
   "outputs": [
    {
     "name": "stdout",
     "output_type": "stream",
     "text": [
      "[3 3 3 3 3 3 3 3 3 3 3 3 3 3 3 3 3 3 3 3 6 6 6 6 6 6 6 6 6 6 6 6 6 6 6 6 6\n",
      " 6 6 6 4 4 4 4 4 4 4 4 4 4 4 4 4 4 4 4 4 4 4 4 5 5 5 5 5 5 5 5 5 5 1 1 1 1\n",
      " 1 0 0 0 0 0 3 3 3 3 3 1 1 1 1 1 3 3 3 3 3 3 3 3 3 3 7 7 7 7 7 7 7 7 7 7 7\n",
      " 7 7 7 7 7 7 7 7 7 0 0 0 0 0 1 1 1 1 1 1 1 1 1 1 1 1 1 1 1 8 8 8 8 8 8 8 8\n",
      " 8 8 8 8 8 8 8 8 8 8 8 8 9 9 9 9 9 9 9 9 9 9 9 9 9 9 9 9 9 9 9 9 2 2 2 2 2\n",
      " 2 2 2 2 2 2 2 2 2 2 2 2 2 2 2 2 9 3 3 4 1 8 6 5 7]\n"
     ]
    }
   ],
   "source": [
    "# Apply k-means clustering with 10 clusters\n",
    "kmeans10 = KMeans(n_clusters=10, random_state=42)\n",
    "clusters = kmeans10.fit_predict(all_embeddings)\n",
    "\n",
    "# Check the cluster assignments\n",
    "print(clusters)"
   ]
  },
  {
   "cell_type": "code",
   "execution_count": 7,
   "id": "b4e9cb85-4cb6-49aa-9a59-166bf611b6b3",
   "metadata": {},
   "outputs": [
    {
     "name": "stdout",
     "output_type": "stream",
     "text": [
      "Cluster 0: ['world_war1.txt', 'world_war2.txt', 'world_war3.txt', 'world_war4.txt', 'world_war5.txt', 'einstein1.txt', 'einstein2.txt', 'einstein3.txt', 'einstein4.txt', 'einstein5.txt']\n",
      "Cluster 1: ['velvet_revolution1.txt', 'velvet_revolution2.txt', 'velvet_revolution3.txt', 'velvet_revolution4.txt', 'velvet_revolution5.txt', 'charles_bridge1.txt', 'charles_bridge2.txt', 'charles_bridge3.txt', 'charles_bridge4.txt', 'charles_bridge5.txt', 'havel1.txt', 'havel2.txt', 'havel3.txt', 'havel4.txt', 'havel5.txt', 'klaus1.txt', 'klaus2.txt', 'klaus3.txt', 'klaus4.txt', 'klaus5.txt', 'mandela1.txt', 'mandela2.txt', 'mandela3.txt', 'mandela4.txt', 'mandela5.txt', 'gold_havel.txt']\n",
      "Cluster 2: ['airplane1.txt', 'airplane2.txt', 'airplane3.txt', 'airplane4.txt', 'airplane5.txt', 'boat1.txt', 'boat2.txt', 'boat3.txt', 'boat4.txt', 'boat5.txt', 'car1.txt', 'car2.txt', 'car3.txt', 'car4.txt', 'car5.txt', 'train1.txt', 'train2.txt', 'train3.txt', 'train4.txt', 'train5.txt', 'gold_airplane.txt']\n",
      "Cluster 3: ['cat1.txt', 'cat2.txt', 'cat3.txt', 'cat4.txt', 'cat5.txt', 'dolphin1.txt', 'dolphin2.txt', 'dolphin3.txt', 'dolphin4.txt', 'dolphin5.txt', 'elephant1.txt', 'elephant2.txt', 'elephant3.txt', 'elephant4.txt', 'elephant5.txt', 'giraffe1.txt', 'giraffe2.txt', 'giraffe3.txt', 'giraffe4.txt', 'giraffe5.txt', 'buckingham_palace1.txt', 'buckingham_palace2.txt', 'buckingham_palace3.txt', 'buckingham_palace4.txt', 'buckingham_palace5.txt', 'eiffel_tower1.txt', 'eiffel_tower2.txt', 'eiffel_tower3.txt', 'eiffel_tower4.txt', 'eiffel_tower5.txt', 'fuji1.txt', 'fuji2.txt', 'fuji3.txt', 'fuji4.txt', 'fuji5.txt', 'gold_eiffel_tower.txt', 'gold_elephant.txt']\n",
      "Cluster 4: ['cpu1.txt', 'cpu2.txt', 'cpu3.txt', 'cpu4.txt', 'cpu5.txt', 'gpu1.txt', 'gpu2.txt', 'gpu3.txt', 'gpu4.txt', 'gpu5.txt', 'motherboard1.txt', 'motherboard2.txt', 'motherboard3.txt', 'motherboard4.txt', 'motherboard5.txt', 'ram1.txt', 'ram2.txt', 'ram3.txt', 'ram4.txt', 'ram5.txt', 'gold_gpu.txt']\n",
      "Cluster 5: ['boston_tea1.txt', 'boston_tea2.txt', 'boston_tea3.txt', 'boston_tea4.txt', 'boston_tea5.txt', 'moon_landing1.txt', 'moon_landing2.txt', 'moon_landing3.txt', 'moon_landing4.txt', 'moon_landing5.txt', 'gold_moon_landing.txt']\n",
      "Cluster 6: ['amazon1.txt', 'amazon2.txt', 'amazon3.txt', 'amazon4.txt', 'amazon5.txt', 'google1.txt', 'google2.txt', 'google3.txt', 'google4.txt', 'google5.txt', 'microsoft1.txt', 'microsoft2.txt', 'microsoft3.txt', 'microsoft4.txt', 'microsoft5.txt', 'tencent1.txt', 'tencent2.txt', 'tencent3.txt', 'tencent4.txt', 'tencent5.txt', 'gold_microsoft.txt']\n",
      "Cluster 7: ['lord_rings1.txt', 'lord_rings2.txt', 'lord_rings3.txt', 'lord_rings4.txt', 'lord_rings5.txt', 'matrix1.txt', 'matrix2.txt', 'matrix3.txt', 'matrix4.txt', 'matrix5.txt', 'pirates1.txt', 'pirates2.txt', 'pirates3.txt', 'pirates4.txt', 'pirates5.txt', 'star_wars1.txt', 'star_wars2.txt', 'star_wars3.txt', 'star_wars4.txt', 'star_wars5.txt', 'gold_star_wars.txt']\n",
      "Cluster 8: ['chemistry1.txt', 'chemistry2.txt', 'chemistry3.txt', 'chemistry4.txt', 'chemistry5.txt', 'economics1.txt', 'economics2.txt', 'economics3.txt', 'economics4.txt', 'economics5.txt', 'mathematics1.txt', 'mathematics2.txt', 'mathematics3.txt', 'mathematics4.txt', 'mathematics5.txt', 'physics1.txt', 'physics2.txt', 'physics3.txt', 'physics4.txt', 'physics5.txt', 'gold_mathematics.txt']\n",
      "Cluster 9: ['cuni1.txt', 'cuni2.txt', 'cuni3.txt', 'cuni4.txt', 'cuni5.txt', 'mit1.txt', 'mit2.txt', 'mit3.txt', 'mit4.txt', 'mit5.txt', 'oxford1.txt', 'oxford2.txt', 'oxford3.txt', 'oxford4.txt', 'oxford5.txt', 'vse1.txt', 'vse2.txt', 'vse3.txt', 'vse4.txt', 'vse5.txt', 'gold_cuni.txt']\n"
     ]
    }
   ],
   "source": [
    "# Now print the clusters with the corresponding filenames\n",
    "for cluster_num in range(10):  # Assuming there are 4 clusters\n",
    "    cluster_members = [file_names[idx] for idx in range(len(clusters)) if clusters[idx] == cluster_num]\n",
    "    print(f\"Cluster {cluster_num}: {cluster_members}\")"
   ]
  },
  {
   "cell_type": "code",
   "execution_count": 8,
   "id": "39b66db8-df53-4d3c-8e6b-ceae55a929cf",
   "metadata": {},
   "outputs": [],
   "source": [
    "y_pred10_gold = [\n",
    "    0, 0, 0, 0, 0, 0, 0, 0, 0, 0, 0, 0, 0, 0, 0, 0, 0, 0, 0, 0,0,\n",
    "    1, 1, 1, 1, 1, 1, 1, 1, 1, 1, 1, 1, 1, 1, 1, 1, 1, 1, 1, 1,1,\n",
    "    2, 2, 2, 2, 2, 2, 2, 2, 2, 2, 2, 2, 2, 2, 2, 2, 2, 2, 2, 2,2,\n",
    "    3, 3, 3, 3, 3, 3, 3, 3, 3, 3, 3, 3, 3, 3, 3, 3, 3, 3, 3, 3,3,\n",
    "    4, 4, 4, 4, 4, 4, 4, 4, 4, 4, 4, 4, 4, 4, 4, 4, 4, 4, 4, 4,4,\n",
    "    5, 5, 5, 5, 5, 5, 5, 5, 5, 5, 5, 5, 5, 5, 5, 5, 5, 5, 5, 5,5,\n",
    "    6, 6, 6, 6, 6, 6, 6, 6, 6, 6, 6, 6, 6, 6, 6, 6, 6, 6, 6, 6,6,\n",
    "    7, 7, 7, 7, 7, 7, 7, 7, 7, 7, 7, 7, 7, 7, 7, 7, 7, 7, 7, 7,7,\n",
    "    8, 8, 8, 8, 8, 8, 8, 8, 8, 8, 8, 8, 8, 8, 8, 8, 8, 8, 8, 8,8,\n",
    "    9, 9, 9, 9, 9, 9, 9, 9, 9, 9, 9, 9, 9, 9, 9, 9, 9, 9, 9, 9,9\n",
    "]"
   ]
  },
  {
   "cell_type": "code",
   "execution_count": 9,
   "id": "d1b9030a-cb7b-45df-b071-bd0559594840",
   "metadata": {},
   "outputs": [
    {
     "name": "stdout",
     "output_type": "stream",
     "text": [
      "Rand Index: 0.9012531328320802\n"
     ]
    }
   ],
   "source": [
    "from sklearn.metrics import rand_score\n",
    "rand_index = rand_score(clusters, y_pred10_gold)\n",
    "\n",
    "print(f\"Rand Index: {rand_index}\")"
   ]
  }
 ],
 "metadata": {
  "kernelspec": {
   "display_name": "Python 3 (ipykernel)",
   "language": "python",
   "name": "python3"
  },
  "language_info": {
   "codemirror_mode": {
    "name": "ipython",
    "version": 3
   },
   "file_extension": ".py",
   "mimetype": "text/x-python",
   "name": "python",
   "nbconvert_exporter": "python",
   "pygments_lexer": "ipython3",
   "version": "3.10.10"
  }
 },
 "nbformat": 4,
 "nbformat_minor": 5
}
