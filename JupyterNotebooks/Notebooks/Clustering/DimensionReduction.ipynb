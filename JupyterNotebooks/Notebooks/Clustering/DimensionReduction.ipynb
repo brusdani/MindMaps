{
 "cells": [
  {
   "cell_type": "code",
   "execution_count": 1,
   "id": "0f82ff78-754e-478b-897e-3dec5b15b672",
   "metadata": {},
   "outputs": [
    {
     "name": "stdout",
     "output_type": "stream",
     "text": [
      "Combined embeddings shape: (200, 1536)\n"
     ]
    }
   ],
   "source": [
    "import json\n",
    "import numpy as np\n",
    "from sklearn.cluster import KMeans\n",
    "\n",
    "# Load embeddings from the JSON files\n",
    "embedding_files = ['embeddings/animals.json', 'embeddings/companies.json', 'embeddings/computer_components.json', 'embeddings/events.json',\n",
    "                  'embeddings/landmarks.json','embeddings/movies.json','embeddings/people.json',\n",
    "                  'embeddings/research_fields.json','embeddings/university.json','embeddings/vehicles.json']\n",
    "\n",
    "all_embeddings = []\n",
    "file_names = []  # To store the corresponding file names\n",
    "\n",
    "# Iterate through each file and load its content\n",
    "for file in embedding_files:\n",
    "    with open(file, 'r') as f:\n",
    "        data = json.load(f)  # Load the data from each file\n",
    "        \n",
    "        # Add embeddings and file names\n",
    "        embeddings = np.array([item['embedding'] for item in data])  # Extract 'embedding' key\n",
    "        all_embeddings.append(embeddings)  # Add the embeddings\n",
    "        file_names.extend([item['file_name'] for item in data])  # Store file names\n",
    "\n",
    "# Combine all embeddings into a single array\n",
    "all_embeddings = np.concatenate(all_embeddings, axis=0)\n",
    "\n",
    "# Check the shape of the combined embeddings\n",
    "print(\"Combined embeddings shape:\", all_embeddings.shape)\n"
   ]
  },
  {
   "cell_type": "code",
   "execution_count": 2,
   "id": "5002d9cb-5ebe-4293-a638-99a1c91d7c17",
   "metadata": {},
   "outputs": [
    {
     "name": "stdout",
     "output_type": "stream",
     "text": [
      "[ 3  3  3  3  3 32 32 32 32 32 18 18 18 18 18 39 39 39 39 39 19 19 19 19\n",
      " 19 36 36 36 36 36  9  9  9  9  9 37 37 37 37 37 38 38 38 38 38 33 33 33\n",
      " 33 33  4  4  4  4  4 30 30 30 30 30 15 15 15 15 15 23 23 23 23 23 34 34\n",
      " 34 34 34 10 10 10 10 10 11 11 11 11 11 20 20 20 20 20  8  8  8  8  8 29\n",
      " 29 29 29 29 22 22 22 22 22 17 17 17 17 17 25 25 25 25 25  1  1  1  1  1\n",
      " 12 12 12 12 12  5  5  5  5  5 21 21 21 21 21 13 13 13 13 13 14 14 14 14\n",
      " 14  0  0  0  0  0 27 27 27 27 27 24 24 24 24 24 35 35 35 35 35  7  7  7\n",
      "  7  7 16 16 16 16 16  2  2  2  2  2 28 28 28 28 28 31 31 31 31 31 26 26\n",
      " 26 26 26  6  6  6  6  6]\n"
     ]
    }
   ],
   "source": [
    "from sklearn.decomposition import PCA\n",
    "\n",
    "pca = PCA(n_components=9)  # Reduce to 9 dimensions (adjust based on your data)\n",
    "reduced_embeddings = pca.fit_transform(all_embeddings)\n",
    "\n",
    "kmeans40 = KMeans(n_clusters=40, init='k-means++', n_init=10, max_iter=300, random_state=42)\n",
    "clusters = kmeans40.fit_predict(reduced_embeddings)\n",
    "\n",
    "print(clusters)\n",
    "\n"
   ]
  },
  {
   "cell_type": "code",
   "execution_count": 3,
   "id": "52922263-f62c-4da9-813a-c89d3bd50d51",
   "metadata": {},
   "outputs": [
    {
     "name": "stdout",
     "output_type": "stream",
     "text": [
      "Cluster 0: ['economics1.txt', 'economics2.txt', 'economics3.txt', 'economics4.txt', 'economics5.txt']\n",
      "Cluster 1: ['star_wars1.txt', 'star_wars2.txt', 'star_wars3.txt', 'star_wars4.txt', 'star_wars5.txt']\n",
      "Cluster 2: ['vse1.txt', 'vse2.txt', 'vse3.txt', 'vse4.txt', 'vse5.txt']\n",
      "Cluster 3: ['cat1.txt', 'cat2.txt', 'cat3.txt', 'cat4.txt', 'cat5.txt']\n",
      "Cluster 4: ['motherboard1.txt', 'motherboard2.txt', 'motherboard3.txt', 'motherboard4.txt', 'motherboard5.txt']\n",
      "Cluster 5: ['havel1.txt', 'havel2.txt', 'havel3.txt', 'havel4.txt', 'havel5.txt']\n",
      "Cluster 6: ['train1.txt', 'train2.txt', 'train3.txt', 'train4.txt', 'train5.txt']\n",
      "Cluster 7: ['mit1.txt', 'mit2.txt', 'mit3.txt', 'mit4.txt', 'mit5.txt']\n",
      "Cluster 8: ['eiffel_tower1.txt', 'eiffel_tower2.txt', 'eiffel_tower3.txt', 'eiffel_tower4.txt', 'eiffel_tower5.txt']\n",
      "Cluster 9: ['microsoft1.txt', 'microsoft2.txt', 'microsoft3.txt', 'microsoft4.txt', 'microsoft5.txt']\n",
      "Cluster 10: ['world_war1.txt', 'world_war2.txt', 'world_war3.txt', 'world_war4.txt', 'world_war5.txt']\n",
      "Cluster 11: ['buckingham_palace1.txt', 'buckingham_palace2.txt', 'buckingham_palace3.txt', 'buckingham_palace4.txt', 'buckingham_palace5.txt']\n",
      "Cluster 12: ['einstein1.txt', 'einstein2.txt', 'einstein3.txt', 'einstein4.txt', 'einstein5.txt']\n",
      "Cluster 13: ['mandela1.txt', 'mandela2.txt', 'mandela3.txt', 'mandela4.txt', 'mandela5.txt']\n",
      "Cluster 14: ['chemistry1.txt', 'chemistry2.txt', 'chemistry3.txt', 'chemistry4.txt', 'chemistry5.txt']\n",
      "Cluster 15: ['boston_tea1.txt', 'boston_tea2.txt', 'boston_tea3.txt', 'boston_tea4.txt', 'boston_tea5.txt']\n",
      "Cluster 16: ['oxford1.txt', 'oxford2.txt', 'oxford3.txt', 'oxford4.txt', 'oxford5.txt']\n",
      "Cluster 17: ['matrix1.txt', 'matrix2.txt', 'matrix3.txt', 'matrix4.txt', 'matrix5.txt']\n",
      "Cluster 18: ['elephant1.txt', 'elephant2.txt', 'elephant3.txt', 'elephant4.txt', 'elephant5.txt']\n",
      "Cluster 19: ['amazon1.txt', 'amazon2.txt', 'amazon3.txt', 'amazon4.txt', 'amazon5.txt']\n",
      "Cluster 20: ['charles_bridge1.txt', 'charles_bridge2.txt', 'charles_bridge3.txt', 'charles_bridge4.txt', 'charles_bridge5.txt']\n",
      "Cluster 21: ['klaus1.txt', 'klaus2.txt', 'klaus3.txt', 'klaus4.txt', 'klaus5.txt']\n",
      "Cluster 22: ['lord_rings1.txt', 'lord_rings2.txt', 'lord_rings3.txt', 'lord_rings4.txt', 'lord_rings5.txt']\n",
      "Cluster 23: ['moon_landing1.txt', 'moon_landing2.txt', 'moon_landing3.txt', 'moon_landing4.txt', 'moon_landing5.txt']\n",
      "Cluster 24: ['physics1.txt', 'physics2.txt', 'physics3.txt', 'physics4.txt', 'physics5.txt']\n",
      "Cluster 25: ['pirates1.txt', 'pirates2.txt', 'pirates3.txt', 'pirates4.txt', 'pirates5.txt']\n",
      "Cluster 26: ['car1.txt', 'car2.txt', 'car3.txt', 'car4.txt', 'car5.txt']\n",
      "Cluster 27: ['mathematics1.txt', 'mathematics2.txt', 'mathematics3.txt', 'mathematics4.txt', 'mathematics5.txt']\n",
      "Cluster 28: ['airplane1.txt', 'airplane2.txt', 'airplane3.txt', 'airplane4.txt', 'airplane5.txt']\n",
      "Cluster 29: ['fuji1.txt', 'fuji2.txt', 'fuji3.txt', 'fuji4.txt', 'fuji5.txt']\n",
      "Cluster 30: ['ram1.txt', 'ram2.txt', 'ram3.txt', 'ram4.txt', 'ram5.txt']\n",
      "Cluster 31: ['boat1.txt', 'boat2.txt', 'boat3.txt', 'boat4.txt', 'boat5.txt']\n",
      "Cluster 32: ['dolphin1.txt', 'dolphin2.txt', 'dolphin3.txt', 'dolphin4.txt', 'dolphin5.txt']\n",
      "Cluster 33: ['gpu1.txt', 'gpu2.txt', 'gpu3.txt', 'gpu4.txt', 'gpu5.txt']\n",
      "Cluster 34: ['velvet_revolution1.txt', 'velvet_revolution2.txt', 'velvet_revolution3.txt', 'velvet_revolution4.txt', 'velvet_revolution5.txt']\n",
      "Cluster 35: ['cuni1.txt', 'cuni2.txt', 'cuni3.txt', 'cuni4.txt', 'cuni5.txt']\n",
      "Cluster 36: ['google1.txt', 'google2.txt', 'google3.txt', 'google4.txt', 'google5.txt']\n",
      "Cluster 37: ['tencent1.txt', 'tencent2.txt', 'tencent3.txt', 'tencent4.txt', 'tencent5.txt']\n",
      "Cluster 38: ['cpu1.txt', 'cpu2.txt', 'cpu3.txt', 'cpu4.txt', 'cpu5.txt']\n",
      "Cluster 39: ['giraffe1.txt', 'giraffe2.txt', 'giraffe3.txt', 'giraffe4.txt', 'giraffe5.txt']\n"
     ]
    }
   ],
   "source": [
    "# Now print the clusters with the corresponding filenames\n",
    "for cluster_num in range(40):  # Assuming there are 4 clusters\n",
    "    cluster_members = [file_names[idx] for idx in range(len(clusters)) if clusters[idx] == cluster_num]\n",
    "    print(f\"Cluster {cluster_num}: {cluster_members}\")"
   ]
  },
  {
   "cell_type": "code",
   "execution_count": 4,
   "id": "d1457d58-7f97-4ad2-b7fb-6189ab7765ea",
   "metadata": {},
   "outputs": [],
   "source": [
    "y_pred40 = [\n",
    "    0, 0, 0, 0, 0, 1, 1, 1, 1, 1, 2, 2, 2, 2, 2, 3, 3, 3, 3, 3, 4, 4, 4, 4, 4, 5, 5, 5, 5, 5, 6, 6, 6, 6, 6, 7, 7, 7, 7, 7, 8, 8, 8, 8, 8, \n",
    "    9, 9, 9, 9, 9, 10, 10, 10, 10, 10, 11, 11, 11, 11, 11,12, 12, 12, 12, 12, 13, 13, 13, 13, 13, 14, 14, 14, 14, 14, 15, 15, 15, 15, 15,  \n",
    "    16, 16, 16, 16, 16, 17, 17, 17, 17, 17, 18, 18, 18, 18, 18, 19, 19, 19, 19, 19, 20, 20, 20, 20, 20, 21, 21, 21, 21, 21, 22, 22, 22, 22, 22,  \n",
    "    23, 23, 23, 23, 23, 24, 24, 24, 24, 24, 25, 25, 25, 25, 25, 26, 26, 26, 26, 26, 27, 27, 27, 27, 27, 28, 28, 28, 28, 28, 29, 29, 29, 29, 29,\n",
    "    30, 30, 30, 30, 30, 31, 31, 31, 31, 31, 32, 32, 32, 32, 32, 33, 33, 33, 33, 33, 34, 34, 34, 34, 34, 35, 35, 35, 35, 35, \n",
    "    36, 36, 36, 36, 36, 37, 37, 37, 37, 37, 38, 38, 38, 38, 38, 39, 39, 39, 39, 39 \n",
    "]"
   ]
  },
  {
   "cell_type": "code",
   "execution_count": 5,
   "id": "9e4a7ba1-b50b-486d-980d-142964808b0c",
   "metadata": {},
   "outputs": [
    {
     "name": "stdout",
     "output_type": "stream",
     "text": [
      "Rand Index: 1.0\n"
     ]
    }
   ],
   "source": [
    "from sklearn.metrics import rand_score\n",
    "rand_index = rand_score(clusters, y_pred40)\n",
    "\n",
    "print(f\"Rand Index: {rand_index}\")"
   ]
  },
  {
   "cell_type": "code",
   "execution_count": 6,
   "id": "1244d905-4916-432f-8bfa-0ae4ad211c15",
   "metadata": {},
   "outputs": [
    {
     "name": "stdout",
     "output_type": "stream",
     "text": [
      "[2 2 2 2 2 2 2 2 2 2 2 2 2 2 2 2 2 2 2 2 6 6 6 6 6 6 6 6 6 6 6 6 6 6 6 6 6\n",
      " 6 6 6 9 9 9 9 9 9 9 9 9 9 9 9 9 9 9 9 9 9 9 9 4 4 4 4 4 4 4 4 4 4 0 0 0 0\n",
      " 0 4 4 4 4 4 5 5 5 5 5 7 7 7 7 7 5 5 5 5 5 5 5 5 5 5 8 8 8 8 8 8 8 8 8 8 8\n",
      " 8 8 8 8 8 8 8 8 8 1 1 1 1 1 0 0 0 0 0 0 0 0 0 0 4 4 4 4 4 1 1 1 1 1 1 1 1\n",
      " 1 1 1 1 1 1 1 1 1 1 1 1 7 7 7 7 7 4 4 4 4 4 7 7 7 7 7 7 7 7 7 7 3 3 3 3 3\n",
      " 3 3 3 3 3 3 3 3 3 3 3 3 3 3 3]\n"
     ]
    }
   ],
   "source": [
    "# Apply k-means clustering with 10 clusters\n",
    "kmeans10 = KMeans(n_clusters=10, random_state=42)\n",
    "clusters = kmeans10.fit_predict(reduced_embeddings)\n",
    "\n",
    "# Check the cluster assignments\n",
    "print(clusters)"
   ]
  },
  {
   "cell_type": "code",
   "execution_count": 7,
   "id": "b55d32df-05e6-4659-94dd-904f1c3773ef",
   "metadata": {},
   "outputs": [
    {
     "name": "stdout",
     "output_type": "stream",
     "text": [
      "Cluster 0: ['velvet_revolution1.txt', 'velvet_revolution2.txt', 'velvet_revolution3.txt', 'velvet_revolution4.txt', 'velvet_revolution5.txt', 'havel1.txt', 'havel2.txt', 'havel3.txt', 'havel4.txt', 'havel5.txt', 'klaus1.txt', 'klaus2.txt', 'klaus3.txt', 'klaus4.txt', 'klaus5.txt']\n",
      "Cluster 1: ['einstein1.txt', 'einstein2.txt', 'einstein3.txt', 'einstein4.txt', 'einstein5.txt', 'chemistry1.txt', 'chemistry2.txt', 'chemistry3.txt', 'chemistry4.txt', 'chemistry5.txt', 'economics1.txt', 'economics2.txt', 'economics3.txt', 'economics4.txt', 'economics5.txt', 'mathematics1.txt', 'mathematics2.txt', 'mathematics3.txt', 'mathematics4.txt', 'mathematics5.txt', 'physics1.txt', 'physics2.txt', 'physics3.txt', 'physics4.txt', 'physics5.txt']\n",
      "Cluster 2: ['cat1.txt', 'cat2.txt', 'cat3.txt', 'cat4.txt', 'cat5.txt', 'dolphin1.txt', 'dolphin2.txt', 'dolphin3.txt', 'dolphin4.txt', 'dolphin5.txt', 'elephant1.txt', 'elephant2.txt', 'elephant3.txt', 'elephant4.txt', 'elephant5.txt', 'giraffe1.txt', 'giraffe2.txt', 'giraffe3.txt', 'giraffe4.txt', 'giraffe5.txt']\n",
      "Cluster 3: ['airplane1.txt', 'airplane2.txt', 'airplane3.txt', 'airplane4.txt', 'airplane5.txt', 'boat1.txt', 'boat2.txt', 'boat3.txt', 'boat4.txt', 'boat5.txt', 'car1.txt', 'car2.txt', 'car3.txt', 'car4.txt', 'car5.txt', 'train1.txt', 'train2.txt', 'train3.txt', 'train4.txt', 'train5.txt']\n",
      "Cluster 4: ['boston_tea1.txt', 'boston_tea2.txt', 'boston_tea3.txt', 'boston_tea4.txt', 'boston_tea5.txt', 'moon_landing1.txt', 'moon_landing2.txt', 'moon_landing3.txt', 'moon_landing4.txt', 'moon_landing5.txt', 'world_war1.txt', 'world_war2.txt', 'world_war3.txt', 'world_war4.txt', 'world_war5.txt', 'mandela1.txt', 'mandela2.txt', 'mandela3.txt', 'mandela4.txt', 'mandela5.txt', 'mit1.txt', 'mit2.txt', 'mit3.txt', 'mit4.txt', 'mit5.txt']\n",
      "Cluster 5: ['buckingham_palace1.txt', 'buckingham_palace2.txt', 'buckingham_palace3.txt', 'buckingham_palace4.txt', 'buckingham_palace5.txt', 'eiffel_tower1.txt', 'eiffel_tower2.txt', 'eiffel_tower3.txt', 'eiffel_tower4.txt', 'eiffel_tower5.txt', 'fuji1.txt', 'fuji2.txt', 'fuji3.txt', 'fuji4.txt', 'fuji5.txt']\n",
      "Cluster 6: ['amazon1.txt', 'amazon2.txt', 'amazon3.txt', 'amazon4.txt', 'amazon5.txt', 'google1.txt', 'google2.txt', 'google3.txt', 'google4.txt', 'google5.txt', 'microsoft1.txt', 'microsoft2.txt', 'microsoft3.txt', 'microsoft4.txt', 'microsoft5.txt', 'tencent1.txt', 'tencent2.txt', 'tencent3.txt', 'tencent4.txt', 'tencent5.txt']\n",
      "Cluster 7: ['charles_bridge1.txt', 'charles_bridge2.txt', 'charles_bridge3.txt', 'charles_bridge4.txt', 'charles_bridge5.txt', 'cuni1.txt', 'cuni2.txt', 'cuni3.txt', 'cuni4.txt', 'cuni5.txt', 'oxford1.txt', 'oxford2.txt', 'oxford3.txt', 'oxford4.txt', 'oxford5.txt', 'vse1.txt', 'vse2.txt', 'vse3.txt', 'vse4.txt', 'vse5.txt']\n",
      "Cluster 8: ['lord_rings1.txt', 'lord_rings2.txt', 'lord_rings3.txt', 'lord_rings4.txt', 'lord_rings5.txt', 'matrix1.txt', 'matrix2.txt', 'matrix3.txt', 'matrix4.txt', 'matrix5.txt', 'pirates1.txt', 'pirates2.txt', 'pirates3.txt', 'pirates4.txt', 'pirates5.txt', 'star_wars1.txt', 'star_wars2.txt', 'star_wars3.txt', 'star_wars4.txt', 'star_wars5.txt']\n",
      "Cluster 9: ['cpu1.txt', 'cpu2.txt', 'cpu3.txt', 'cpu4.txt', 'cpu5.txt', 'gpu1.txt', 'gpu2.txt', 'gpu3.txt', 'gpu4.txt', 'gpu5.txt', 'motherboard1.txt', 'motherboard2.txt', 'motherboard3.txt', 'motherboard4.txt', 'motherboard5.txt', 'ram1.txt', 'ram2.txt', 'ram3.txt', 'ram4.txt', 'ram5.txt']\n"
     ]
    }
   ],
   "source": [
    "# Now print the clusters with the corresponding filenames\n",
    "for cluster_num in range(10):  # Assuming there are 4 clusters\n",
    "    cluster_members = [file_names[idx] for idx in range(len(clusters)) if clusters[idx] == cluster_num]\n",
    "    print(f\"Cluster {cluster_num}: {cluster_members}\")"
   ]
  },
  {
   "cell_type": "code",
   "execution_count": 8,
   "id": "4476ef6a-23f1-43af-93b6-83f17966af59",
   "metadata": {},
   "outputs": [],
   "source": [
    "y_pred10 = [\n",
    "    0, 0, 0, 0, 0, 0, 0, 0, 0, 0, 0, 0, 0, 0, 0, 0, 0, 0, 0, 0,\n",
    "    1, 1, 1, 1, 1, 1, 1, 1, 1, 1, 1, 1, 1, 1, 1, 1, 1, 1, 1, 1,\n",
    "    2, 2, 2, 2, 2, 2, 2, 2, 2, 2, 2, 2, 2, 2, 2, 2, 2, 2, 2, 2,\n",
    "    3, 3, 3, 3, 3, 3, 3, 3, 3, 3, 3, 3, 3, 3, 3, 3, 3, 3, 3, 3,\n",
    "    4, 4, 4, 4, 4, 4, 4, 4, 4, 4, 4, 4, 4, 4, 4, 4, 4, 4, 4, 4,\n",
    "    5, 5, 5, 5, 5, 5, 5, 5, 5, 5, 5, 5, 5, 5, 5, 5, 5, 5, 5, 5,\n",
    "    6, 6, 6, 6, 6, 6, 6, 6, 6, 6, 6, 6, 6, 6, 6, 6, 6, 6, 6, 6,\n",
    "    7, 7, 7, 7, 7, 7, 7, 7, 7, 7, 7, 7, 7, 7, 7, 7, 7, 7, 7, 7,\n",
    "    8, 8, 8, 8, 8, 8, 8, 8, 8, 8, 8, 8, 8, 8, 8, 8, 8, 8, 8, 8,\n",
    "    9, 9, 9, 9, 9, 9, 9, 9, 9, 9, 9, 9, 9, 9, 9, 9, 9, 9, 9, 9\n",
    "]\n"
   ]
  },
  {
   "cell_type": "code",
   "execution_count": 9,
   "id": "5c9af2c1-a384-42fd-a6e3-5019a97b8e9f",
   "metadata": {},
   "outputs": [
    {
     "name": "stdout",
     "output_type": "stream",
     "text": [
      "Rand Index: 0.9623115577889447\n"
     ]
    }
   ],
   "source": [
    "from sklearn.metrics import rand_score\n",
    "rand_index = rand_score(clusters, y_pred10)\n",
    "\n",
    "print(f\"Rand Index: {rand_index}\")"
   ]
  },
  {
   "cell_type": "code",
   "execution_count": null,
   "id": "5280e876-826d-458a-974b-ab6bbb6cb13b",
   "metadata": {},
   "outputs": [],
   "source": []
  }
 ],
 "metadata": {
  "kernelspec": {
   "display_name": "Python 3 (ipykernel)",
   "language": "python",
   "name": "python3"
  },
  "language_info": {
   "codemirror_mode": {
    "name": "ipython",
    "version": 3
   },
   "file_extension": ".py",
   "mimetype": "text/x-python",
   "name": "python",
   "nbconvert_exporter": "python",
   "pygments_lexer": "ipython3",
   "version": "3.10.10"
  }
 },
 "nbformat": 4,
 "nbformat_minor": 5
}
