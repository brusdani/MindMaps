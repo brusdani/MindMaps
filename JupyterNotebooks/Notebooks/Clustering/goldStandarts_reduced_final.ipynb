{
 "cells": [
  {
   "cell_type": "code",
   "execution_count": 1,
   "id": "b364a22c-5deb-4aed-a586-68581a7de22a",
   "metadata": {},
   "outputs": [
    {
     "name": "stdout",
     "output_type": "stream",
     "text": [
      "Combined embeddings shape: (210, 1536)\n"
     ]
    }
   ],
   "source": [
    "import json\n",
    "import numpy as np\n",
    "from sklearn.cluster import KMeans\n",
    "\n",
    "# Load embeddings from the JSON files\n",
    "embedding_files = ['embeddings/animals.json', 'embeddings/companies.json', 'embeddings/computer_components.json', 'embeddings/events.json',\n",
    "                  'embeddings/landmarks.json','embeddings/movies.json','embeddings/people.json',\n",
    "                  'embeddings/research_fields.json','embeddings/university.json','embeddings/vehicles.json', 'embeddings/gold.json']\n",
    "\n",
    "all_embeddings = []\n",
    "file_names = []  # To store the corresponding file names\n",
    "\n",
    "# Iterate through each file and load its content\n",
    "for file in embedding_files:\n",
    "    with open(file, 'r') as f:\n",
    "        data = json.load(f)  # Load the data from each file\n",
    "        \n",
    "        # Add embeddings and file names\n",
    "        embeddings = np.array([item['embedding'] for item in data])  # Extract 'embedding' key\n",
    "        all_embeddings.append(embeddings)  # Add the embeddings\n",
    "        file_names.extend([item['file_name'] for item in data])  # Store file names\n",
    "\n",
    "# Combine all embeddings into a single array\n",
    "all_embeddings = np.concatenate(all_embeddings, axis=0)\n",
    "\n",
    "# Check the shape of the combined embeddings\n",
    "print(\"Combined embeddings shape:\", all_embeddings.shape)\n"
   ]
  },
  {
   "cell_type": "code",
   "execution_count": 2,
   "id": "52a29a4c-396e-4b20-b86d-78458932beef",
   "metadata": {},
   "outputs": [
    {
     "name": "stdout",
     "output_type": "stream",
     "text": [
      "[ 2  2  2  2  2 10 10 10 10 10 21 21 21 21 21 21 21 21 21 21 37 37 37 37\n",
      " 37 23 23 23 23 23 35 35 35 35 35  6  6  6  6  6  3  3  3  3  3 30 30 30\n",
      " 30 30 38 38 38 38 38 34 34 34 34 34 12 12 12 12 12  8  8  8  8  8 33 33\n",
      " 33 33 33 20 20 20 20 20  4  4  4  4  4 15 15 15 15 15 17 17 17 17 17 27\n",
      " 27 27 27 27 16 16 16 16 16 18 18 18 18 18 29 29 29 29 29  1  1  1  1  1\n",
      " 13 13 13 13 13 19 19 19 19 19  5  5  5  5  5 14 14 14 14 14 25 25 25 25\n",
      " 25 26 26 26 26 26  0  0  0  0  0 32 32 32 32 32  9  9  9  9  9 22 22 22\n",
      " 22 22 11 11 11 11 11 36 36 36 36 36  7  7  7  7  7 31 31 31 31 31 24 24\n",
      " 24 24 24 28 28 28 28 28 39  9 17 21 30 19  0 35  8  1]\n"
     ]
    }
   ],
   "source": [
    "from sklearn.decomposition import PCA\n",
    "\n",
    "pca = PCA(n_components=9)  # Reduce to 9 dimensions\n",
    "reduced_embeddings = pca.fit_transform(all_embeddings)\n",
    "\n",
    "kmeans40 = KMeans(n_clusters=40, init='k-means++', n_init=10, max_iter=1000, random_state=42)\n",
    "labels40 = kmeans40.fit_predict(reduced_embeddings)\n",
    "\n",
    "print(labels40)\n"
   ]
  },
  {
   "cell_type": "code",
   "execution_count": 3,
   "id": "a7429fb9-e9b4-41e3-b46e-1af17ec4cc76",
   "metadata": {},
   "outputs": [
    {
     "name": "stdout",
     "output_type": "stream",
     "text": [
      "Cluster 0: ['mathematics1.txt', 'mathematics2.txt', 'mathematics3.txt', 'mathematics4.txt', 'mathematics5.txt', 'gold_mathematics.txt']\n",
      "Cluster 1: ['star_wars1.txt', 'star_wars2.txt', 'star_wars3.txt', 'star_wars4.txt', 'star_wars5.txt', 'gold_star_wars.txt']\n",
      "Cluster 2: ['cat1.txt', 'cat2.txt', 'cat3.txt', 'cat4.txt', 'cat5.txt']\n",
      "Cluster 3: ['cpu1.txt', 'cpu2.txt', 'cpu3.txt', 'cpu4.txt', 'cpu5.txt']\n",
      "Cluster 4: ['buckingham_palace1.txt', 'buckingham_palace2.txt', 'buckingham_palace3.txt', 'buckingham_palace4.txt', 'buckingham_palace5.txt']\n",
      "Cluster 5: ['klaus1.txt', 'klaus2.txt', 'klaus3.txt', 'klaus4.txt', 'klaus5.txt']\n",
      "Cluster 6: ['tencent1.txt', 'tencent2.txt', 'tencent3.txt', 'tencent4.txt', 'tencent5.txt']\n",
      "Cluster 7: ['airplane1.txt', 'airplane2.txt', 'airplane3.txt', 'airplane4.txt', 'airplane5.txt']\n",
      "Cluster 8: ['moon_landing1.txt', 'moon_landing2.txt', 'moon_landing3.txt', 'moon_landing4.txt', 'moon_landing5.txt', 'gold_moon_landing.txt']\n",
      "Cluster 9: ['cuni1.txt', 'cuni2.txt', 'cuni3.txt', 'cuni4.txt', 'cuni5.txt', 'gold_cuni.txt']\n",
      "Cluster 10: ['dolphin1.txt', 'dolphin2.txt', 'dolphin3.txt', 'dolphin4.txt', 'dolphin5.txt']\n",
      "Cluster 11: ['oxford1.txt', 'oxford2.txt', 'oxford3.txt', 'oxford4.txt', 'oxford5.txt']\n",
      "Cluster 12: ['boston_tea1.txt', 'boston_tea2.txt', 'boston_tea3.txt', 'boston_tea4.txt', 'boston_tea5.txt']\n",
      "Cluster 13: ['einstein1.txt', 'einstein2.txt', 'einstein3.txt', 'einstein4.txt', 'einstein5.txt']\n",
      "Cluster 14: ['mandela1.txt', 'mandela2.txt', 'mandela3.txt', 'mandela4.txt', 'mandela5.txt']\n",
      "Cluster 15: ['charles_bridge1.txt', 'charles_bridge2.txt', 'charles_bridge3.txt', 'charles_bridge4.txt', 'charles_bridge5.txt']\n",
      "Cluster 16: ['lord_rings1.txt', 'lord_rings2.txt', 'lord_rings3.txt', 'lord_rings4.txt', 'lord_rings5.txt']\n",
      "Cluster 17: ['eiffel_tower1.txt', 'eiffel_tower2.txt', 'eiffel_tower3.txt', 'eiffel_tower4.txt', 'eiffel_tower5.txt', 'gold_eiffel_tower.txt']\n",
      "Cluster 18: ['matrix1.txt', 'matrix2.txt', 'matrix3.txt', 'matrix4.txt', 'matrix5.txt']\n",
      "Cluster 19: ['havel1.txt', 'havel2.txt', 'havel3.txt', 'havel4.txt', 'havel5.txt', 'gold_havel.txt']\n",
      "Cluster 20: ['world_war1.txt', 'world_war2.txt', 'world_war3.txt', 'world_war4.txt', 'world_war5.txt']\n",
      "Cluster 21: ['elephant1.txt', 'elephant2.txt', 'elephant3.txt', 'elephant4.txt', 'elephant5.txt', 'giraffe1.txt', 'giraffe2.txt', 'giraffe3.txt', 'giraffe4.txt', 'giraffe5.txt', 'gold_elephant.txt']\n",
      "Cluster 22: ['mit1.txt', 'mit2.txt', 'mit3.txt', 'mit4.txt', 'mit5.txt']\n",
      "Cluster 23: ['google1.txt', 'google2.txt', 'google3.txt', 'google4.txt', 'google5.txt']\n",
      "Cluster 24: ['car1.txt', 'car2.txt', 'car3.txt', 'car4.txt', 'car5.txt']\n",
      "Cluster 25: ['chemistry1.txt', 'chemistry2.txt', 'chemistry3.txt', 'chemistry4.txt', 'chemistry5.txt']\n",
      "Cluster 26: ['economics1.txt', 'economics2.txt', 'economics3.txt', 'economics4.txt', 'economics5.txt']\n",
      "Cluster 27: ['fuji1.txt', 'fuji2.txt', 'fuji3.txt', 'fuji4.txt', 'fuji5.txt']\n",
      "Cluster 28: ['train1.txt', 'train2.txt', 'train3.txt', 'train4.txt', 'train5.txt']\n",
      "Cluster 29: ['pirates1.txt', 'pirates2.txt', 'pirates3.txt', 'pirates4.txt', 'pirates5.txt']\n",
      "Cluster 30: ['gpu1.txt', 'gpu2.txt', 'gpu3.txt', 'gpu4.txt', 'gpu5.txt', 'gold_gpu.txt']\n",
      "Cluster 31: ['boat1.txt', 'boat2.txt', 'boat3.txt', 'boat4.txt', 'boat5.txt']\n",
      "Cluster 32: ['physics1.txt', 'physics2.txt', 'physics3.txt', 'physics4.txt', 'physics5.txt']\n",
      "Cluster 33: ['velvet_revolution1.txt', 'velvet_revolution2.txt', 'velvet_revolution3.txt', 'velvet_revolution4.txt', 'velvet_revolution5.txt']\n",
      "Cluster 34: ['ram1.txt', 'ram2.txt', 'ram3.txt', 'ram4.txt', 'ram5.txt']\n",
      "Cluster 35: ['microsoft1.txt', 'microsoft2.txt', 'microsoft3.txt', 'microsoft4.txt', 'microsoft5.txt', 'gold_microsoft.txt']\n",
      "Cluster 36: ['vse1.txt', 'vse2.txt', 'vse3.txt', 'vse4.txt', 'vse5.txt']\n",
      "Cluster 37: ['amazon1.txt', 'amazon2.txt', 'amazon3.txt', 'amazon4.txt', 'amazon5.txt']\n",
      "Cluster 38: ['motherboard1.txt', 'motherboard2.txt', 'motherboard3.txt', 'motherboard4.txt', 'motherboard5.txt']\n",
      "Cluster 39: ['gold_airplane.txt']\n"
     ]
    }
   ],
   "source": [
    "# Print the clusters with the corresponding filenames\n",
    "for cluster_num in range(40):\n",
    "    cluster_members = [file_names[idx] for idx in range(len(labels40)) if labels40[idx] == cluster_num]\n",
    "    print(f\"Cluster {cluster_num}: {cluster_members}\")\n"
   ]
  },
  {
   "cell_type": "code",
   "execution_count": 4,
   "id": "c1ea0f47-37eb-4116-bd29-3a0090a53eab",
   "metadata": {},
   "outputs": [
    {
     "name": "stdout",
     "output_type": "stream",
     "text": [
      "[6, 6, 6, 6, 6, 11, 11, 11, 11, 11, 15, 15, 15, 15, 15, 17, 17, 17, 17, 17, 1, 1, 1, 1, 1, 18, 18, 18, 18, 18, 26, 26, 26, 26, 26, 35, 35, 35, 35, 35, 9, 9, 9, 9, 9, 19, 19, 19, 19, 19, 29, 29, 29, 29, 29, 33, 33, 33, 33, 33, 3, 3, 3, 3, 3, 28, 28, 28, 28, 28, 37, 37, 37, 37, 37, 39, 39, 39, 39, 39, 4, 4, 4, 4, 4, 7, 7, 7, 7, 7, 13, 13, 13, 13, 13, 16, 16, 16, 16, 16, 22, 22, 22, 22, 22, 25, 25, 25, 25, 25, 32, 32, 32, 32, 32, 34, 34, 34, 34, 34, 14, 14, 14, 14, 14, 20, 20, 20, 20, 20, 21, 21, 21, 21, 21, 23, 23, 23, 23, 23, 8, 8, 8, 8, 8, 12, 12, 12, 12, 12, 24, 24, 24, 24, 24, 31, 31, 31, 31, 31, 10, 10, 10, 10, 10, 27, 27, 27, 27, 27, 30, 30, 30, 30, 30, 38, 38, 38, 38, 38, 0, 0, 0, 0, 0, 2, 2, 2, 2, 2, 5, 5, 5, 5, 5, 36, 36, 36, 36, 36, 0, 10, 13, 15, 19, 20, 24, 26, 28, 34]\n",
      "[6, 6, 6, 6, 6, 6, 6, 6, 6, 6, 6, 6, 6, 6, 6, 6, 6, 6, 6, 6, 2, 2, 2, 2, 2, 2, 2, 2, 2, 2, 2, 2, 2, 2, 2, 2, 2, 2, 2, 2, 7, 7, 7, 7, 7, 7, 7, 7, 7, 7, 7, 7, 7, 7, 7, 7, 7, 7, 7, 7, 4, 4, 4, 4, 4, 4, 4, 4, 4, 4, 4, 4, 4, 4, 4, 4, 4, 4, 4, 4, 5, 5, 5, 5, 5, 5, 5, 5, 5, 5, 5, 5, 5, 5, 5, 5, 5, 5, 5, 5, 9, 9, 9, 9, 9, 9, 9, 9, 9, 9, 9, 9, 9, 9, 9, 9, 9, 9, 9, 9, 0, 0, 0, 0, 0, 0, 0, 0, 0, 0, 0, 0, 0, 0, 0, 0, 0, 0, 0, 0, 1, 1, 1, 1, 1, 1, 1, 1, 1, 1, 1, 1, 1, 1, 1, 1, 1, 1, 1, 1, 8, 8, 8, 8, 8, 8, 8, 8, 8, 8, 8, 8, 8, 8, 8, 8, 8, 8, 8, 8, 3, 3, 3, 3, 3, 3, 3, 3, 3, 3, 3, 3, 3, 3, 3, 3, 3, 3, 3, 3, 3, 8, 5, 6, 7, 0, 1, 2, 4, 9]\n"
     ]
    }
   ],
   "source": [
    "import os, re\n",
    "\n",
    "def extract_entity(fn):\n",
    "    base = os.path.splitext(fn)[0]\n",
    "    base = base.replace('gold_', '').replace('_gold', '')\n",
    "    return re.sub(r'\\d+$', '', base)\n",
    "\n",
    "true_entities = [extract_entity(fn) for fn in file_names]\n",
    "\n",
    "# H1: define 10 “domain” groups\n",
    "expected_groups = {\n",
    "    0: ['havel','klaus','einstein','mandela'],\n",
    "    1: ['chemistry','economics','mathematics','physics'],\n",
    "    2: ['amazon','google','microsoft','tencent'],\n",
    "    3: ['airplane','boat','car','train'],\n",
    "    4: ['boston_tea','moon_landing','velvet_revolution','world_war'],\n",
    "    5: ['buckingham_palace','charles_bridge','eiffel_tower','fuji'],\n",
    "    6: ['cat','dolphin','elephant','giraffe'],\n",
    "    7: ['cpu','gpu','motherboard','ram'],\n",
    "    8: ['cuni','mit','oxford','vse'],\n",
    "    9: ['lord_rings','matrix','pirates','star_wars']\n",
    "}\n",
    "entity_to_group = {ent: grp for grp, ents in expected_groups.items() for ent in ents}\n",
    "\n",
    "# H2: one cluster per entity\n",
    "unique_entities = sorted(set(true_entities))\n",
    "entity_to_idx    = {ent: idx for idx, ent in enumerate(unique_entities)}\n",
    "\n",
    "# Build ground-truth labels\n",
    "groundtruth10_gold = [entity_to_group[ent]   for ent in true_entities]\n",
    "groundtruth40_gold = [entity_to_idx[ent]     for ent in true_entities]\n",
    "\n",
    "invalid = [e for e in true_entities if e not in entity_to_group]\n",
    "if invalid:\n",
    "    raise ValueError(f\"Unmapped in H1 groups: {set(invalid)}\")\n",
    "\n",
    "print(groundtruth40_gold)\n",
    "print(groundtruth10_gold)\n"
   ]
  },
  {
   "cell_type": "code",
   "execution_count": 5,
   "id": "2a1274b8-707d-4707-afad-a48771c48980",
   "metadata": {},
   "outputs": [
    {
     "name": "stdout",
     "output_type": "stream",
     "text": [
      "Rand Index: 0.9984051036682615\n"
     ]
    }
   ],
   "source": [
    "from sklearn.metrics import rand_score\n",
    "rand_index = rand_score(groundtruth40_gold, labels40)\n",
    "\n",
    "print(f\"Rand Index: {rand_index}\")"
   ]
  },
  {
   "cell_type": "code",
   "execution_count": 6,
   "id": "fb70b090-b69e-47c1-b737-9c4afbc6bd23",
   "metadata": {},
   "outputs": [
    {
     "name": "stdout",
     "output_type": "stream",
     "text": [
      "Adjusted Rand Index: 0.9613\n"
     ]
    }
   ],
   "source": [
    "from sklearn.metrics import adjusted_rand_score\n",
    "\n",
    "ari40 = adjusted_rand_score(groundtruth40_gold, labels40)\n",
    "print(f\"Adjusted Rand Index: {ari40:.4f}\")"
   ]
  },
  {
   "cell_type": "code",
   "execution_count": 7,
   "id": "83ce9977-bd64-46bb-aee4-f0010b38872b",
   "metadata": {},
   "outputs": [
    {
     "name": "stdout",
     "output_type": "stream",
     "text": [
      "[2 2 2 2 2 2 2 2 2 2 2 2 2 2 2 2 2 2 2 2 6 6 6 6 6 6 6 6 6 6 6 6 6 6 6 6 6\n",
      " 6 6 6 4 4 4 4 4 4 4 4 4 4 4 4 4 4 4 4 4 4 4 4 0 0 0 0 0 0 0 0 0 0 1 1 1 1\n",
      " 1 0 0 0 0 0 9 9 9 9 9 3 3 3 3 3 9 9 9 9 9 9 9 9 9 9 8 8 8 8 8 8 8 8 8 8 8\n",
      " 8 8 8 8 8 8 8 8 8 0 0 0 0 0 1 1 1 1 1 1 1 1 1 1 0 0 0 0 0 5 5 5 5 5 5 5 5\n",
      " 5 5 5 5 5 5 5 5 5 5 5 5 3 3 3 3 3 0 0 0 0 0 3 3 3 3 3 3 3 3 3 3 7 7 7 7 7\n",
      " 7 7 7 7 7 7 7 7 7 7 7 7 7 7 7 7 3 9 2 4 1 5 6 0 8]\n"
     ]
    }
   ],
   "source": [
    "# Apply k-means clustering with 10 clusters\n",
    "kmeans10 = KMeans(n_clusters=10, random_state=42)\n",
    "labels10 = kmeans10.fit_predict(reduced_embeddings)\n",
    "\n",
    "# Check the cluster assignments\n",
    "print(labels10)"
   ]
  },
  {
   "cell_type": "code",
   "execution_count": 8,
   "id": "b4e9cb85-4cb6-49aa-9a59-166bf611b6b3",
   "metadata": {
    "scrolled": true
   },
   "outputs": [
    {
     "name": "stdout",
     "output_type": "stream",
     "text": [
      "Cluster 0: ['boston_tea1.txt', 'boston_tea2.txt', 'boston_tea3.txt', 'boston_tea4.txt', 'boston_tea5.txt', 'moon_landing1.txt', 'moon_landing2.txt', 'moon_landing3.txt', 'moon_landing4.txt', 'moon_landing5.txt', 'world_war1.txt', 'world_war2.txt', 'world_war3.txt', 'world_war4.txt', 'world_war5.txt', 'einstein1.txt', 'einstein2.txt', 'einstein3.txt', 'einstein4.txt', 'einstein5.txt', 'mandela1.txt', 'mandela2.txt', 'mandela3.txt', 'mandela4.txt', 'mandela5.txt', 'mit1.txt', 'mit2.txt', 'mit3.txt', 'mit4.txt', 'mit5.txt', 'gold_moon_landing.txt']\n",
      "Cluster 1: ['velvet_revolution1.txt', 'velvet_revolution2.txt', 'velvet_revolution3.txt', 'velvet_revolution4.txt', 'velvet_revolution5.txt', 'havel1.txt', 'havel2.txt', 'havel3.txt', 'havel4.txt', 'havel5.txt', 'klaus1.txt', 'klaus2.txt', 'klaus3.txt', 'klaus4.txt', 'klaus5.txt', 'gold_havel.txt']\n",
      "Cluster 2: ['cat1.txt', 'cat2.txt', 'cat3.txt', 'cat4.txt', 'cat5.txt', 'dolphin1.txt', 'dolphin2.txt', 'dolphin3.txt', 'dolphin4.txt', 'dolphin5.txt', 'elephant1.txt', 'elephant2.txt', 'elephant3.txt', 'elephant4.txt', 'elephant5.txt', 'giraffe1.txt', 'giraffe2.txt', 'giraffe3.txt', 'giraffe4.txt', 'giraffe5.txt', 'gold_elephant.txt']\n",
      "Cluster 3: ['charles_bridge1.txt', 'charles_bridge2.txt', 'charles_bridge3.txt', 'charles_bridge4.txt', 'charles_bridge5.txt', 'cuni1.txt', 'cuni2.txt', 'cuni3.txt', 'cuni4.txt', 'cuni5.txt', 'oxford1.txt', 'oxford2.txt', 'oxford3.txt', 'oxford4.txt', 'oxford5.txt', 'vse1.txt', 'vse2.txt', 'vse3.txt', 'vse4.txt', 'vse5.txt', 'gold_cuni.txt']\n",
      "Cluster 4: ['cpu1.txt', 'cpu2.txt', 'cpu3.txt', 'cpu4.txt', 'cpu5.txt', 'gpu1.txt', 'gpu2.txt', 'gpu3.txt', 'gpu4.txt', 'gpu5.txt', 'motherboard1.txt', 'motherboard2.txt', 'motherboard3.txt', 'motherboard4.txt', 'motherboard5.txt', 'ram1.txt', 'ram2.txt', 'ram3.txt', 'ram4.txt', 'ram5.txt', 'gold_gpu.txt']\n",
      "Cluster 5: ['chemistry1.txt', 'chemistry2.txt', 'chemistry3.txt', 'chemistry4.txt', 'chemistry5.txt', 'economics1.txt', 'economics2.txt', 'economics3.txt', 'economics4.txt', 'economics5.txt', 'mathematics1.txt', 'mathematics2.txt', 'mathematics3.txt', 'mathematics4.txt', 'mathematics5.txt', 'physics1.txt', 'physics2.txt', 'physics3.txt', 'physics4.txt', 'physics5.txt', 'gold_mathematics.txt']\n",
      "Cluster 6: ['amazon1.txt', 'amazon2.txt', 'amazon3.txt', 'amazon4.txt', 'amazon5.txt', 'google1.txt', 'google2.txt', 'google3.txt', 'google4.txt', 'google5.txt', 'microsoft1.txt', 'microsoft2.txt', 'microsoft3.txt', 'microsoft4.txt', 'microsoft5.txt', 'tencent1.txt', 'tencent2.txt', 'tencent3.txt', 'tencent4.txt', 'tencent5.txt', 'gold_microsoft.txt']\n",
      "Cluster 7: ['airplane1.txt', 'airplane2.txt', 'airplane3.txt', 'airplane4.txt', 'airplane5.txt', 'boat1.txt', 'boat2.txt', 'boat3.txt', 'boat4.txt', 'boat5.txt', 'car1.txt', 'car2.txt', 'car3.txt', 'car4.txt', 'car5.txt', 'train1.txt', 'train2.txt', 'train3.txt', 'train4.txt', 'train5.txt', 'gold_airplane.txt']\n",
      "Cluster 8: ['lord_rings1.txt', 'lord_rings2.txt', 'lord_rings3.txt', 'lord_rings4.txt', 'lord_rings5.txt', 'matrix1.txt', 'matrix2.txt', 'matrix3.txt', 'matrix4.txt', 'matrix5.txt', 'pirates1.txt', 'pirates2.txt', 'pirates3.txt', 'pirates4.txt', 'pirates5.txt', 'star_wars1.txt', 'star_wars2.txt', 'star_wars3.txt', 'star_wars4.txt', 'star_wars5.txt', 'gold_star_wars.txt']\n",
      "Cluster 9: ['buckingham_palace1.txt', 'buckingham_palace2.txt', 'buckingham_palace3.txt', 'buckingham_palace4.txt', 'buckingham_palace5.txt', 'eiffel_tower1.txt', 'eiffel_tower2.txt', 'eiffel_tower3.txt', 'eiffel_tower4.txt', 'eiffel_tower5.txt', 'fuji1.txt', 'fuji2.txt', 'fuji3.txt', 'fuji4.txt', 'fuji5.txt', 'gold_eiffel_tower.txt']\n"
     ]
    }
   ],
   "source": [
    "# Print the clusters with the corresponding filenames\n",
    "for cluster_num in range(10): \n",
    "    cluster_members = [file_names[idx] for idx in range(len(labels10)) if labels10[idx] == cluster_num]\n",
    "    print(f\"Cluster {cluster_num}: {cluster_members}\")"
   ]
  },
  {
   "cell_type": "code",
   "execution_count": 9,
   "id": "34761929-08d5-4575-b1a9-1bd5d15507e4",
   "metadata": {},
   "outputs": [
    {
     "name": "stdout",
     "output_type": "stream",
     "text": [
      "Rand Index: 0.9646844383686489\n"
     ]
    }
   ],
   "source": [
    "from sklearn.metrics import rand_score\n",
    "rand_index = rand_score(groundtruth10_gold, labels10)\n",
    "\n",
    "print(f\"Rand Index: {rand_index}\")"
   ]
  },
  {
   "cell_type": "code",
   "execution_count": 10,
   "id": "96235a5a-b36d-4e6d-9602-dcf78021a064",
   "metadata": {},
   "outputs": [
    {
     "name": "stdout",
     "output_type": "stream",
     "text": [
      "Adjusted Rand Index: 0.7992\n"
     ]
    }
   ],
   "source": [
    "from sklearn.metrics import adjusted_rand_score\n",
    "\n",
    "ari10 = adjusted_rand_score(groundtruth10_gold, labels10)\n",
    "print(f\"Adjusted Rand Index: {ari10:.4f}\")"
   ]
  },
  {
   "cell_type": "code",
   "execution_count": 11,
   "id": "3e4c2054-5dd7-4243-8c36-0cf0a197baf5",
   "metadata": {},
   "outputs": [],
   "source": [
    "from sklearn.metrics import pair_confusion_matrix\n",
    "def pairwise_prf(y_true, y_pred):\n",
    "    tn, fp, fn, tp = pair_confusion_matrix(y_true, y_pred).ravel()\n",
    "    prec = tp / (tp + fp) if tp + fp > 0 else 0.0\n",
    "    rec  = tp / (tp + fn) if tp + fn > 0 else 0.0\n",
    "    f1   = 2 * prec * rec / (prec + rec) if prec + rec > 0 else 0.0\n",
    "    return {\"precision\": prec, \"recall\": rec, \"f1\": f1}"
   ]
  },
  {
   "cell_type": "code",
   "execution_count": 12,
   "id": "d1054529-c47c-47c4-8de4-7c402653cba0",
   "metadata": {},
   "outputs": [
    {
     "name": "stdout",
     "output_type": "stream",
     "text": [
      "Pairwise Precision: 0.8046\n",
      "Pairwise Recall:    0.8333\n",
      "Pairwise F1-score:  0.8187\n"
     ]
    }
   ],
   "source": [
    "metrics10 = pairwise_prf(groundtruth10_gold, labels10)\n",
    "print(f\"Pairwise Precision: {metrics10['precision']:.4f}\")\n",
    "print(f\"Pairwise Recall:    {metrics10['recall']   :.4f}\")\n",
    "print(f\"Pairwise F1-score:  {metrics10['f1']       :.4f}\")"
   ]
  },
  {
   "cell_type": "code",
   "execution_count": 13,
   "id": "7eddf28b-8467-4559-91a1-dd374c6e0ae9",
   "metadata": {},
   "outputs": [
    {
     "name": "stdout",
     "output_type": "stream",
     "text": [
      "Pairwise Precision: 0.9368\n",
      "Pairwise Recall:    0.9889\n",
      "Pairwise F1-score:  0.9622\n"
     ]
    }
   ],
   "source": [
    "metrics40 = pairwise_prf(groundtruth40_gold, labels40)\n",
    "print(f\"Pairwise Precision: {metrics40['precision']:.4f}\")\n",
    "print(f\"Pairwise Recall:    {metrics40['recall']   :.4f}\")\n",
    "print(f\"Pairwise F1-score:  {metrics40['f1']       :.4f}\")"
   ]
  }
 ],
 "metadata": {
  "kernelspec": {
   "display_name": "Python 3 (ipykernel)",
   "language": "python",
   "name": "python3"
  },
  "language_info": {
   "codemirror_mode": {
    "name": "ipython",
    "version": 3
   },
   "file_extension": ".py",
   "mimetype": "text/x-python",
   "name": "python",
   "nbconvert_exporter": "python",
   "pygments_lexer": "ipython3",
   "version": "3.10.10"
  }
 },
 "nbformat": 4,
 "nbformat_minor": 5
}
